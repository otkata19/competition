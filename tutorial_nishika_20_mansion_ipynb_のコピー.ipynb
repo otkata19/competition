{
  "nbformat": 4,
  "nbformat_minor": 0,
  "metadata": {
    "language_info": {
      "codemirror_mode": {
        "name": "ipython",
        "version": 3
      },
      "file_extension": ".py",
      "mimetype": "text/x-python",
      "name": "python",
      "nbconvert_exporter": "python",
      "pygments_lexer": "ipython3",
      "version": "3.7.7-final"
    },
    "orig_nbformat": 2,
    "kernelspec": {
      "name": "python3",
      "display_name": "Python 3",
      "language": "python"
    },
    "colab": {
      "name": "tutorial_nishika_20_mansion.ipynb のコピー",
      "provenance": [],
      "collapsed_sections": [],
      "include_colab_link": true
    }
  },
  "cells": [
    {
      "cell_type": "markdown",
      "metadata": {
        "id": "view-in-github",
        "colab_type": "text"
      },
      "source": [
        "<a href=\"https://colab.research.google.com/github/otkata19/competition/blob/main/tutorial_nishika_20_mansion_ipynb_%E3%81%AE%E3%82%B3%E3%83%94%E3%83%BC.ipynb\" target=\"_parent\"><img src=\"https://colab.research.google.com/assets/colab-badge.svg\" alt=\"Open In Colab\"/></a>"
      ]
    },
    {
      "cell_type": "markdown",
      "metadata": {
        "id": "Jvzp1lvQpRgU"
      },
      "source": [
        "不動産価格予測"
      ]
    },
    {
      "cell_type": "code",
      "metadata": {
        "id": "mTfOenlQpgwk"
      },
      "source": [
        "from google.colab import drive\n",
        "drive.mount('/content/drive')"
      ],
      "execution_count": null,
      "outputs": []
    },
    {
      "cell_type": "code",
      "metadata": {
        "id": "iOCruR1kmgaW"
      },
      "source": [
        "# ご自身のパスを設定\n",
        "YOUR_PATH = \"/content/drive/MyDrive/Nishika/Mansion\""
      ],
      "execution_count": null,
      "outputs": []
    },
    {
      "cell_type": "code",
      "metadata": {
        "id": "ocj0d3_WpgXk"
      },
      "source": [
        "cd {YOUR_PATH}"
      ],
      "execution_count": null,
      "outputs": []
    },
    {
      "cell_type": "code",
      "metadata": {
        "id": "Xe_H3u1RpW0O"
      },
      "source": [
        "!pip install optuna xfeat japanize-matplotlib >> /dev/null"
      ],
      "execution_count": null,
      "outputs": []
    },
    {
      "cell_type": "code",
      "metadata": {
        "id": "v1RMD76PpRgZ"
      },
      "source": [
        "import re\n",
        "\n",
        "import japanize_matplotlib\n",
        "import lightgbm as lgb\n",
        "import matplotlib.pyplot as plt\n",
        "import numpy as np\n",
        "import optuna\n",
        "import pandas as pd\n",
        "import seaborn as sns\n",
        "sns.set(font=\"IPAexGothic\")\n",
        "\n",
        "from glob import glob\n",
        "from functools import partial\n",
        "from sklearn.metrics import mean_absolute_error\n",
        "from sklearn.model_selection import KFold\n",
        "from xfeat import SelectCategorical, LabelEncoder, LambdaEncoder, Pipeline, ConcatCombination, SelectNumerical, \\\n",
        "    ArithmeticCombinations, TargetEncoder, aggregation, GBDTFeatureSelector, GBDTFeatureExplorer"
      ],
      "execution_count": null,
      "outputs": []
    },
    {
      "cell_type": "code",
      "metadata": {
        "id": "444i0jHmpRgb"
      },
      "source": [
        "def normalize_moyori(moyori):\n",
        "    if moyori == moyori:\n",
        "        if moyori == '30分?60分':\n",
        "            moyori = 45\n",
        "        elif moyori == '1H?1H30':\n",
        "            moyori = 75\n",
        "        elif moyori == '1H30?2H':\n",
        "            moyori = 105\n",
        "        elif moyori == '2H?':\n",
        "            moyori = 120\n",
        "        moyori = int(moyori)\n",
        "    return moyori"
      ],
      "execution_count": null,
      "outputs": []
    },
    {
      "cell_type": "code",
      "metadata": {
        "id": "HOI6X5MjpRgb"
      },
      "source": [
        "def normalize_area(area):\n",
        "    if area == area:\n",
        "        area = int(re.sub('m\\^2未満|㎡以上', '', str(area)))\n",
        "    return area"
      ],
      "execution_count": null,
      "outputs": []
    },
    {
      "cell_type": "code",
      "metadata": {
        "id": "B6UWeBQqpRgb"
      },
      "source": [
        "def convert_wareki_to_seireki(wareki):\n",
        "    if wareki == wareki:\n",
        "        if wareki == '戦前':\n",
        "            wareki = '昭和20年'\n",
        "        value = wareki[2:-1]\n",
        "        if value == '元':\n",
        "            value = 1\n",
        "        else:\n",
        "            value = int(value)\n",
        "        if '昭和' in wareki:\n",
        "            seireki = 1925+value\n",
        "        elif '平成' in wareki:\n",
        "            seireki = 1988+value\n",
        "        elif '令和' in wareki:\n",
        "            seireki = 2018+value\n",
        "    else:\n",
        "        seireki = wareki\n",
        "    return seireki"
      ],
      "execution_count": null,
      "outputs": []
    },
    {
      "cell_type": "markdown",
      "metadata": {
        "id": "R_iHYSIypRgb"
      },
      "source": [
        "コンペデータ作成（利用カラム、目的変数など決める）"
      ]
    },
    {
      "cell_type": "markdown",
      "metadata": {
        "id": "8EwCrA9KDrOS"
      },
      "source": [
        "dataディレクトリ配下に以下のようにデータを格納しているとする\n",
        "\n",
        "├─ input<br>\n",
        "│   ├─ data_explanation.xlsx<br>\n",
        "│   ├─ sample_submission.csv<br>\n",
        "│   ├─ test.csv<br>\n",
        "│   └─ train<br>\n",
        "│       &nbsp;&nbsp;&nbsp;&nbsp;&nbsp;&nbsp;&nbsp;&nbsp;├─ 01.csv<br>\n",
        "│       &nbsp;&nbsp;&nbsp;&nbsp;&nbsp;&nbsp;&nbsp;&nbsp;├─ 02.csv<br>\n",
        "│       &nbsp;&nbsp;&nbsp;&nbsp;&nbsp;&nbsp;&nbsp;&nbsp;├─ 03.csv<br>\n",
        "│       &nbsp;&nbsp;&nbsp;&nbsp;&nbsp;&nbsp;&nbsp;&nbsp;├─ ...<br>\n",
        "│       &nbsp;&nbsp;&nbsp;&nbsp;&nbsp;&nbsp;&nbsp;&nbsp;└─ 47.csv<br>\n",
        "└─ output\n"
      ]
    },
    {
      "cell_type": "code",
      "metadata": {
        "id": "JnKbke99pRgc"
      },
      "source": [
        "BASE_PATH = './data/'"
      ],
      "execution_count": null,
      "outputs": []
    },
    {
      "cell_type": "code",
      "metadata": {
        "id": "dlvuK497pRgc"
      },
      "source": [
        "paths = glob(BASE_PATH + 'input/train/*')\n",
        "train_dfs = []\n",
        "for path in paths:\n",
        "    train_df = pd.read_csv(path)\n",
        "    train_dfs.append(train_df)\n",
        "train_df = pd.concat(train_dfs)\n",
        "train_df.reset_index(drop=True, inplace=True)\n",
        "test_df = pd.read_csv(BASE_PATH + 'input/test.csv')"
      ],
      "execution_count": null,
      "outputs": []
    },
    {
      "cell_type": "code",
      "metadata": {
        "id": "-b4QG3G4WeL8"
      },
      "source": [
        "test_df.head(2)"
      ],
      "execution_count": null,
      "outputs": []
    },
    {
      "cell_type": "code",
      "metadata": {
        "id": "UA8e5T8eWEF9"
      },
      "source": [
        "train_df.head(2)"
      ],
      "execution_count": null,
      "outputs": []
    },
    {
      "cell_type": "code",
      "metadata": {
        "id": "evmYy0RDpRgc"
      },
      "source": [
        "train_df.isnull().sum()"
      ],
      "execution_count": null,
      "outputs": []
    },
    {
      "cell_type": "code",
      "metadata": {
        "id": "SehETeyUpRgd"
      },
      "source": [
        "sub_df = pd.read_csv(BASE_PATH + 'input/sample_submission.csv')"
      ],
      "execution_count": null,
      "outputs": []
    },
    {
      "cell_type": "code",
      "metadata": {
        "id": "udqHdH9MpRgd"
      },
      "source": [
        "ID = 'ID'\n",
        "TARGET = '取引価格（総額）_log'\n",
        "rm_cols = []"
      ],
      "execution_count": null,
      "outputs": []
    },
    {
      "cell_type": "code",
      "metadata": {
        "id": "8FoGfIwxpRge"
      },
      "source": [
        "df = pd.concat([train_df, test_df])\n",
        "\n",
        "rm_cols += ['市区町村コード']\n",
        "for i,v in df.nunique().iteritems():\n",
        "    if v <= 1:\n",
        "        rm_cols.append(i)\n",
        "\n",
        "rm_cols"
      ],
      "execution_count": null,
      "outputs": []
    },
    {
      "cell_type": "code",
      "metadata": {
        "id": "j1LZb8qMpRge"
      },
      "source": [
        "test_df[TARGET] = np.nan\n",
        "train_df.drop(rm_cols, axis=1, inplace=True)\n",
        "test_df.drop(rm_cols, axis=1, inplace=True)\n",
        "df = pd.concat([train_df, test_df])\n",
        "df.sort_values('取引時点', inplace=True)\n",
        "df.reset_index(drop=True, inplace=True)\n",
        "df.shape"
      ],
      "execution_count": null,
      "outputs": []
    },
    {
      "cell_type": "code",
      "metadata": {
        "id": "6oqA6qIynMO2"
      },
      "source": [
        "df['取引時点'].unique()"
      ],
      "execution_count": null,
      "outputs": []
    },
    {
      "cell_type": "code",
      "metadata": {
        "id": "yJl_gacnvmCY"
      },
      "source": [
        "val_min_idx = min(df[df['取引時点'].str.contains('2020年第２四半期|2020年第３四半期', regex=True)].index)\n",
        "test_min_idx = min(df[df['取引時点'].str.contains('2020年第４四半期|2021年第１四半期', regex=True)].index)\n",
        "val_min_idx, test_min_idx"
      ],
      "execution_count": null,
      "outputs": []
    },
    {
      "cell_type": "code",
      "metadata": {
        "id": "za_6BA5X-A_X"
      },
      "source": [
        "set(df.iloc[val_min_idx:test_min_idx, :]['取引時点'].values)"
      ],
      "execution_count": null,
      "outputs": []
    },
    {
      "cell_type": "markdown",
      "metadata": {
        "id": "74WQqMxKpRge"
      },
      "source": [
        "特徴量生成"
      ]
    },
    {
      "cell_type": "code",
      "metadata": {
        "id": "U1-jbdrKpRgf"
      },
      "source": [
        "enc_dic = {}\n",
        "for i, e in enumerate(sorted(list(set(df['取引時点'].values)))):\n",
        "    enc_dic[e] = i\n",
        "df['取引時点_enc'] = df['取引時点'].map(enc_dic)"
      ],
      "execution_count": null,
      "outputs": []
    },
    {
      "cell_type": "code",
      "metadata": {
        "id": "Pp70asTFpRgf",
        "collapsed": true
      },
      "source": [
        "te_dic = {}\n",
        "time_col = '取引時点_enc'\n",
        "group_col = '都道府県名'\n",
        "\n",
        "for i in set(df[time_col].values):\n",
        "    tmp_df = df[df[time_col] < i]\n",
        "    te_dic[i] = tmp_df.groupby(group_col)[TARGET].agg('mean').to_dict()\n",
        "\n",
        "te_dic[50]"
      ],
      "execution_count": null,
      "outputs": []
    },
    {
      "cell_type": "code",
      "metadata": {
        "id": "rArMjGd7pRgf"
      },
      "source": [
        "def calc_te(row):\n",
        "    if row[time_col] in te_dic and row[group_col] in te_dic[row[time_col]]:\n",
        "        return te_dic[row[time_col]][row[group_col]]\n",
        "    else:\n",
        "        return 0\n",
        "\n",
        "df[group_col+'_te'] = df.apply(calc_te, axis=1)\n",
        "df.head(2)"
      ],
      "execution_count": null,
      "outputs": []
    },
    {
      "cell_type": "code",
      "metadata": {
        "id": "BTrJ3EC_pRgf"
      },
      "source": [
        "df['取引時点_何年前'] = df['取引時点'].apply(lambda x: 2021-int(x[:4]))\n",
        "df.drop(['取引時点'], axis=1, inplace=True)\n",
        "df['建築年'] = df['建築年'].apply(lambda x: convert_wareki_to_seireki(x))\n",
        "df['面積（㎡）'] = df['面積（㎡）'].apply(lambda x: normalize_area(x))\n",
        "df['最寄駅：距離（分）'] = df['最寄駅：距離（分）'].apply(lambda x: normalize_moyori(x))"
      ],
      "execution_count": null,
      "outputs": []
    },
    {
      "cell_type": "code",
      "metadata": {
        "id": "QYR7Sd8QpRgg"
      },
      "source": [
        "num_df = SelectNumerical().fit_transform(df)\n",
        "num_df.head(2)"
      ],
      "execution_count": null,
      "outputs": []
    },
    {
      "cell_type": "code",
      "metadata": {
        "id": "Bp_KYSA0pRgg"
      },
      "source": [
        "encoder = Pipeline([\n",
        "    SelectCategorical(),\n",
        "    LabelEncoder(output_suffix=\"\"),\n",
        "])\n",
        "\n",
        "le_df = encoder.fit_transform(df)\n",
        "le_df.head(2)"
      ],
      "execution_count": null,
      "outputs": []
    },
    {
      "cell_type": "code",
      "metadata": {
        "id": "AuySwDN1pRgg"
      },
      "source": [
        "encoder = Pipeline(\n",
        "    [\n",
        "        SelectNumerical(),\n",
        "        ArithmeticCombinations(\n",
        "            input_cols=[\"面積（㎡）\", \"容積率（％）\"], \n",
        "            drop_origin=True, \n",
        "            operator=\"*\", \n",
        "            r=2,\n",
        "        ),\n",
        "    ]\n",
        ")\n",
        "\n",
        "num_comb_df = encoder.fit_transform(df)/100\n",
        "num_comb_df.head(2)"
      ],
      "execution_count": null,
      "outputs": []
    },
    {
      "cell_type": "code",
      "metadata": {
        "id": "L5GKKJT-pRgg"
      },
      "source": [
        "agg_dfs = []\n",
        "\n",
        "def get_agg_df(df, group_col):\n",
        "\n",
        "    agg_df, agg_cols = aggregation(df,\n",
        "                        group_key=group_col,\n",
        "                        group_values=['最寄駅：距離（分）', '面積（㎡）', '建ぺい率（％）', '容積率（％）'],\n",
        "                        agg_methods=['count', 'mean', 'min', 'max'],\n",
        "                        )\n",
        "\n",
        "    return agg_df[agg_cols]\n",
        "\n",
        "group_col = '市区町村名'\n",
        "agg_dfs.append(get_agg_df(df, group_col))\n",
        "agg_dfs[0].head(2)"
      ],
      "execution_count": null,
      "outputs": []
    },
    {
      "cell_type": "code",
      "metadata": {
        "id": "SyT-F_j9pRgh"
      },
      "source": [
        "feat_df = pd.concat([num_df,le_df,num_comb_df]+agg_dfs, axis=1)\n",
        "print(feat_df.shape)"
      ],
      "execution_count": null,
      "outputs": []
    },
    {
      "cell_type": "code",
      "metadata": {
        "id": "PBZeWFmVpRgh"
      },
      "source": [
        "feat_df.dtypes"
      ],
      "execution_count": null,
      "outputs": []
    },
    {
      "cell_type": "markdown",
      "metadata": {
        "id": "gxbamqpbpRgh"
      },
      "source": [
        "モデル構築"
      ]
    },
    {
      "cell_type": "code",
      "metadata": {
        "id": "ivwB08IrpRgh"
      },
      "source": [
        "train_df = feat_df.iloc[:val_min_idx, :]\n",
        "val_df = feat_df.iloc[val_min_idx:test_min_idx, :]\n",
        "test_df = feat_df.iloc[test_min_idx:, :]\n",
        "print(train_df.shape, val_df.shape, test_df.shape)"
      ],
      "execution_count": null,
      "outputs": []
    },
    {
      "cell_type": "code",
      "metadata": {
        "id": "QAQjmbAypRgi"
      },
      "source": [
        "feat_cols = [col for col in train_df.columns if col not in rm_cols+[ID, TARGET]]"
      ],
      "execution_count": null,
      "outputs": []
    },
    {
      "cell_type": "code",
      "metadata": {
        "id": "7j7QCTotpRgi"
      },
      "source": [
        "cat_cols = list(le_df.columns) + ['取引時点_enc']\n",
        "cat_cols"
      ],
      "execution_count": null,
      "outputs": []
    },
    {
      "cell_type": "code",
      "metadata": {
        "id": "IRMpya2wpRgi"
      },
      "source": [
        "train_x = train_df[feat_cols]\n",
        "train_y = train_df[TARGET]\n",
        "val_x = val_df[feat_cols]\n",
        "val_y = val_df[TARGET]\n",
        "test_x = test_df[feat_cols]\n",
        "test_y = test_df[TARGET]"
      ],
      "execution_count": null,
      "outputs": []
    },
    {
      "cell_type": "code",
      "metadata": {
        "id": "4Y5EH9v3pRgi"
      },
      "source": [
        "SEED = 0\n",
        "\n",
        "params = {\n",
        "    'objective': 'regression',\n",
        "    'metric': 'mae',\n",
        "    'num_leaves': 42,\n",
        "    'max_depth': 7,\n",
        "    \"feature_fraction\": 0.8,\n",
        "    'subsample_freq': 1,\n",
        "    \"bagging_fraction\": 0.95,\n",
        "    'min_data_in_leaf': 2,\n",
        "    'learning_rate': 0.1,\n",
        "    \"boosting\": \"gbdt\",\n",
        "    \"lambda_l1\": 0.1,\n",
        "    \"lambda_l2\": 10,\n",
        "    \"verbosity\": -1,\n",
        "    \"random_state\": 42,\n",
        "    \"num_boost_round\": 50000,\n",
        "    \"early_stopping_rounds\": 100\n",
        "}\n",
        "\n",
        "train_data = lgb.Dataset(train_x, label=train_y)\n",
        "val_data = lgb.Dataset(val_x, label=val_y)\n",
        "\n",
        "model = lgb.train(\n",
        "    params,\n",
        "    train_data, \n",
        "    categorical_feature = cat_cols,\n",
        "    valid_names = ['train', 'valid'],\n",
        "    valid_sets =[train_data, val_data], \n",
        "    verbose_eval = 100,\n",
        ")\n",
        "\n",
        "val_pred = model.predict(val_x, num_iteration=model.best_iteration)\n",
        "score = mean_absolute_error(val_y, val_pred)\n",
        "\n",
        "pred_df = pd.DataFrame(sorted(zip(val_x.index, val_pred, val_y)), columns=['index', 'predict', 'actual'])\n",
        "\n",
        "feature_imp = pd.DataFrame(sorted(zip(model.feature_importance(), train_x.columns)), columns=['importance', 'feature'])\n",
        "\n",
        "print(f'score: {score:.4f}')"
      ],
      "execution_count": null,
      "outputs": []
    },
    {
      "cell_type": "code",
      "metadata": {
        "id": "kTPeagN2pRgi"
      },
      "source": [
        "lgb.plot_importance(model, figsize=(12,8), max_num_features=50, importance_type='gain')\n",
        "plt.tight_layout()\n",
        "plt.savefig(BASE_PATH + 'output/feature_importance.png')\n",
        "plt.show()\n",
        "plt.close()"
      ],
      "execution_count": null,
      "outputs": []
    },
    {
      "cell_type": "code",
      "metadata": {
        "id": "fGbXh6MLpRgj"
      },
      "source": [
        "test_pred = model.predict(test_x, num_iteration=model.best_iteration)"
      ],
      "execution_count": null,
      "outputs": []
    },
    {
      "cell_type": "code",
      "metadata": {
        "id": "NLU97x851i2R"
      },
      "source": [
        "test_df[TARGET] = test_pred"
      ],
      "execution_count": null,
      "outputs": []
    },
    {
      "cell_type": "code",
      "metadata": {
        "id": "1Uda2xkDpRgj"
      },
      "source": [
        "sub_df = pd.merge(sub_df[['ID']], test_df[['ID', TARGET]], on='ID')\n",
        "sub_df.to_csv(BASE_PATH + 'output/test_submission.csv', index=False)"
      ],
      "execution_count": null,
      "outputs": []
    },
    {
      "cell_type": "code",
      "metadata": {
        "id": "965J57_-b8Eg"
      },
      "source": [
        ""
      ],
      "execution_count": null,
      "outputs": []
    }
  ]
}