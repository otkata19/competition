{
  "nbformat": 4,
  "nbformat_minor": 0,
  "metadata": {
    "colab": {
      "name": "Akutagawa.ipynb",
      "provenance": [],
      "mount_file_id": "1YjyqdgqS1h2YEl03xAUke1VBGLwz4iVw",
      "authorship_tag": "ABX9TyNsAsfLMBiTZmA26lZQzK0t",
      "include_colab_link": true
    },
    "kernelspec": {
      "name": "python3",
      "display_name": "Python 3"
    },
    "language_info": {
      "name": "python"
    }
  },
  "cells": [
    {
      "cell_type": "markdown",
      "metadata": {
        "id": "view-in-github",
        "colab_type": "text"
      },
      "source": [
        "<a href=\"https://colab.research.google.com/github/otkata19/competition/blob/main/Akutagawa.ipynb\" target=\"_parent\"><img src=\"https://colab.research.google.com/assets/colab-badge.svg\" alt=\"Open In Colab\"/></a>"
      ]
    },
    {
      "cell_type": "code",
      "metadata": {
        "id": "QsPCLzWJIHBy"
      },
      "source": [
        "!git clone https://github.com/facebookresearch/fastText.git"
      ],
      "execution_count": null,
      "outputs": []
    },
    {
      "cell_type": "code",
      "metadata": {
        "id": "RIJd2XXxm8pu"
      },
      "source": [
        "!apt install aptitude"
      ],
      "execution_count": null,
      "outputs": []
    },
    {
      "cell_type": "code",
      "metadata": {
        "id": "AeyCDxenLIAR"
      },
      "source": [
        "!aptitude install mecab libmecab-dev mecab-ipadic-utf8 git make curl xz-utils file -y"
      ],
      "execution_count": null,
      "outputs": []
    },
    {
      "cell_type": "code",
      "metadata": {
        "id": "vIvlsaVamLxS"
      },
      "source": [
        "!pip install mecab-python3"
      ],
      "execution_count": null,
      "outputs": []
    },
    {
      "cell_type": "code",
      "metadata": {
        "id": "WNAe2UuKwsMy"
      },
      "source": [
        "!pip install fasttext"
      ],
      "execution_count": null,
      "outputs": []
    },
    {
      "cell_type": "code",
      "metadata": {
        "id": "mpv_Goq7KLEe"
      },
      "source": [
        "!find / -name mecabrc"
      ],
      "execution_count": null,
      "outputs": []
    },
    {
      "cell_type": "code",
      "metadata": {
        "id": "K-5F48xrMN7d"
      },
      "source": [
        "!cp /etc/mecabrc /usr/local/etc/mecabrc"
      ],
      "execution_count": null,
      "outputs": []
    },
    {
      "cell_type": "code",
      "metadata": {
        "id": "Cw9ySSOnIets"
      },
      "source": [
        "#MeCab確認(python)\n",
        "import sys\n",
        "import MeCab\n",
        "mecab = MeCab.Tagger (\"-Owakati\")\n",
        "text = mecab.parse(\"すもももももももものうち \")\n",
        "print(text)"
      ],
      "execution_count": null,
      "outputs": []
    },
    {
      "cell_type": "code",
      "metadata": {
        "id": "m833wzaGNoPX"
      },
      "source": [
        "cd drive/MyDrive/Nishika/Akutagawa/data"
      ],
      "execution_count": null,
      "outputs": []
    },
    {
      "cell_type": "code",
      "metadata": {
        "id": "mIG97JcgFyzE"
      },
      "source": [
        "import re\n",
        "\n",
        "s = \"［＃「五」は中見出し］\"\n",
        "t = \"《おおがら》あああああ《おおがら》ああああ《おおがら》ああああああ\"\n",
        "t = \"《》いい《おおがら》ああああ《おおがら》ああああああ\"\n",
        "result = re.sub(r'\\［.*?\\］', '', s)\n",
        "result_t = re.sub(r'\\《.*?\\》', '', t)"
      ],
      "execution_count": null,
      "outputs": []
    },
    {
      "cell_type": "code",
      "metadata": {
        "id": "KjBfpOvV1vPf"
      },
      "source": [
        "import pandas  as pd\n",
        "\n",
        "df_train = pd.read_csv('train.csv')\n",
        "df_test = pd.read_csv('test.csv')"
      ],
      "execution_count": null,
      "outputs": []
    },
    {
      "cell_type": "code",
      "metadata": {
        "id": "PcpJdp1G4TV7"
      },
      "source": [
        "df_train"
      ],
      "execution_count": null,
      "outputs": []
    },
    {
      "cell_type": "code",
      "metadata": {
        "id": "4AQYfAHJ6Dr7"
      },
      "source": [
        "ak_num = len(df_train[df_train['author'] == 1])\n",
        "print(ak_num)"
      ],
      "execution_count": null,
      "outputs": []
    },
    {
      "cell_type": "code",
      "metadata": {
        "id": "YJ21pNAM5MRF"
      },
      "source": [
        "df_train_0 = df_train[df_train['author'] == 0].sample(n=ak_num)\n",
        "df_train_1 = df_train[df_train['author'] == 1]"
      ],
      "execution_count": null,
      "outputs": []
    },
    {
      "cell_type": "code",
      "metadata": {
        "id": "XoXl48d08bu1"
      },
      "source": [
        "# 縦方向に連結\n",
        "df_train_cat = pd.concat([df_train_0, df_train_1], axis=0)"
      ],
      "execution_count": null,
      "outputs": []
    },
    {
      "cell_type": "code",
      "metadata": {
        "id": "6pMEHhdFQmB2"
      },
      "source": [
        "import csv\n",
        "csv.field_size_limit(1000000000)\n",
        "\n",
        "#csv読み込み\n",
        "csv_train = open(\"train.csv\", \"r\", errors=\"\", newline=\"\" )\n",
        "csv_test = open(\"test.csv\", \"r\", errors=\"\", newline=\"\" )\n",
        "csv_train_data = csv.reader(csv_train, delimiter=\",\", doublequote=True, lineterminator=\"\\r\\n\", quotechar='\"', skipinitialspace=True)\n",
        "csv_test_data = csv.reader(csv_test, delimiter=\",\", doublequote=True, lineterminator=\"\\r\\n\", quotechar='\"', skipinitialspace=True)"
      ],
      "execution_count": null,
      "outputs": []
    },
    {
      "cell_type": "code",
      "metadata": {
        "id": "LeqKRjb-Qq47"
      },
      "source": [
        "import re\n",
        "\n",
        "mecab = MeCab.Tagger (\"-Owakati\") #分かち書き設定\n",
        "\n",
        "def data2list(dataframe):\n",
        "    list_row = [] #分かち書き結果を保存\n",
        "    for row in dataframe.itertuples():\n",
        "        text_r = row[2]\n",
        "        text_s = re.sub(r\"\\s\", \"\", text_r)\n",
        "        # ［］とその中身を削除\n",
        "        text_s = re.sub(r'\\［.*?\\］', '', text_s)\n",
        "        # 《》とその中身を削除\n",
        "        text_s = re.sub(r'\\《.*?\\》', '', text_s)\n",
        "        # MeCabで形態素解析\n",
        "        text = mecab.parse(text_s)\n",
        "        list_row.append((str(row[3])+'   '+text).rstrip(\"\\n\"))\n",
        "    return list_row\n",
        "\n",
        "def test2list(dataframe):\n",
        "    list_row = [] #分かち書き結果を保存\n",
        "    for row in dataframe.itertuples():\n",
        "        text_r = row[2]\n",
        "        text_s = re.sub(r\"\\s\", \"\", text_r)\n",
        "        # ［］とその中身を削除\n",
        "        text_s = re.sub(r'\\［.*?\\］', '', text_s)\n",
        "        # 《》とその中身を削除\n",
        "        text_s = re.sub(r'\\《.*?\\》', '', text_s)\n",
        "        # MeCabで形態素解析\n",
        "        text = mecab.parse(text_s)\n",
        "        list_row.append((text).rstrip(\"\\n\"))\n",
        "    return list_row"
      ],
      "execution_count": null,
      "outputs": []
    },
    {
      "cell_type": "code",
      "metadata": {
        "id": "FCJAEWh27r1W"
      },
      "source": [
        "train_pre = data2list(df_train_cat)\n",
        "test_pre = test2list(df_test)"
      ],
      "execution_count": null,
      "outputs": []
    },
    {
      "cell_type": "code",
      "metadata": {
        "id": "P-zZWPajeDn5"
      },
      "source": [
        "test_pre[1]"
      ],
      "execution_count": null,
      "outputs": []
    },
    {
      "cell_type": "code",
      "metadata": {
        "id": "38RwQU_gp5lO"
      },
      "source": [
        "from sklearn.model_selection import train_test_split\n",
        "\n",
        "train, dev = train_test_split(train_pre, random_state=0, test_size=0.1)"
      ],
      "execution_count": null,
      "outputs": []
    },
    {
      "cell_type": "code",
      "metadata": {
        "id": "GMCdw2arSPpO"
      },
      "source": [
        "print(len(train), len(dev), len(test_pre))"
      ],
      "execution_count": null,
      "outputs": []
    },
    {
      "cell_type": "code",
      "metadata": {
        "id": "1EhjcWe_U4fC"
      },
      "source": [
        "#学習データ作成\n",
        "path_w = 'train_data.txt' #分かち書き済み学習用データ保存ファイル名\n",
        "with open(path_w, 'w') as f_out:\n",
        "    for row in train:\n",
        "        label, text = row.strip().split('   ')\n",
        "        f_out.write('__label__{} {}\\n'.format(label, text))"
      ],
      "execution_count": null,
      "outputs": []
    },
    {
      "cell_type": "code",
      "metadata": {
        "id": "Jxqf846Zrjhw"
      },
      "source": [
        "#検証データ作成\n",
        "path_w = 'dev_data.txt' #分かち書き済み学習用データ保存ファイル名\n",
        "with open(path_w, 'w') as f_out:\n",
        "    for row in dev:\n",
        "        label, text = row.strip().split('   ')\n",
        "        f_out.write('__label__{} {}\\n'.format(label, text))"
      ],
      "execution_count": null,
      "outputs": []
    },
    {
      "cell_type": "code",
      "metadata": {
        "id": "reeCSLhzwnJC"
      },
      "source": [
        "# fastTextで学習\n",
        "import fasttext as ft\n",
        "\n",
        "#model = ft.train_supervised(\"train_data.txt\", label_prefix='__label__',epoch=30, loss=\"softmax\")\n",
        "model = ft.train_supervised(input=\"train_data.txt\", autotuneValidationFile=\"dev_data.txt\")\n",
        "model.save_model(\"akutagawa.bin\")"
      ],
      "execution_count": null,
      "outputs": []
    },
    {
      "cell_type": "code",
      "metadata": {
        "id": "Hv-mGy-CsDUr"
      },
      "source": [
        "classifier = ft.load_model('akutagawa.bin')\n",
        "ret = classifier.test(\"dev_data.txt\")\n",
        "print(ret)"
      ],
      "execution_count": null,
      "outputs": []
    },
    {
      "cell_type": "code",
      "metadata": {
        "id": "q-59mCrE1MpE"
      },
      "source": [
        "import pandas as pd\n",
        "\n",
        "df = pd.read_csv('sample_submission.csv')\n",
        "df_w = df['writing_id']\n",
        "print(df_w)"
      ],
      "execution_count": null,
      "outputs": []
    },
    {
      "cell_type": "code",
      "metadata": {
        "id": "AUANXMU6z4Yv"
      },
      "source": [
        "# test[0]は'body'なのでtest_pre[1:]\n",
        "classifier = ft.load_model('akutagawa.bin')\n",
        "ret_list = []\n",
        "for test_text in test_pre:\n",
        "    ret = classifier.predict(test_text)\n",
        "    ret_list.append(ret[0][0].replace(\"__label__\", \"\"))"
      ],
      "execution_count": null,
      "outputs": []
    },
    {
      "cell_type": "code",
      "metadata": {
        "id": "dv8UI6_l57s_"
      },
      "source": [
        "df_a = pd.DataFrame({'author': ret_list})\n",
        "df_wa = pd.concat([df_w, df_a], axis=1)\n",
        "print(df_wa)"
      ],
      "execution_count": null,
      "outputs": []
    },
    {
      "cell_type": "code",
      "metadata": {
        "id": "2bV5bHQl9C32"
      },
      "source": [
        "df_wa.to_csv('submission.csv', index=False)"
      ],
      "execution_count": null,
      "outputs": []
    },
    {
      "cell_type": "code",
      "metadata": {
        "id": "4yivzPHNzUbm"
      },
      "source": [
        ""
      ],
      "execution_count": null,
      "outputs": []
    }
  ]
}