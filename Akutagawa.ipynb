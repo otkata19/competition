{
  "nbformat": 4,
  "nbformat_minor": 0,
  "metadata": {
    "colab": {
      "name": "Akutagawa.ipynb",
      "provenance": [],
      "mount_file_id": "1YjyqdgqS1h2YEl03xAUke1VBGLwz4iVw",
      "authorship_tag": "ABX9TyOVRDYnLin0xuusN7rcioau",
      "include_colab_link": true
    },
    "kernelspec": {
      "name": "python3",
      "display_name": "Python 3"
    },
    "language_info": {
      "name": "python"
    }
  },
  "cells": [
    {
      "cell_type": "markdown",
      "metadata": {
        "id": "view-in-github",
        "colab_type": "text"
      },
      "source": [
        "<a href=\"https://colab.research.google.com/github/tanakakeitaro/competition/blob/main/Akutagawa.ipynb\" target=\"_parent\"><img src=\"https://colab.research.google.com/assets/colab-badge.svg\" alt=\"Open In Colab\"/></a>"
      ]
    },
    {
      "cell_type": "code",
      "metadata": {
        "id": "QsPCLzWJIHBy"
      },
      "source": [
        "!git clone https://github.com/facebookresearch/fastText.git"
      ],
      "execution_count": null,
      "outputs": []
    },
    {
      "cell_type": "code",
      "metadata": {
        "id": "RIJd2XXxm8pu"
      },
      "source": [
        "!apt install aptitude"
      ],
      "execution_count": null,
      "outputs": []
    },
    {
      "cell_type": "code",
      "metadata": {
        "id": "AeyCDxenLIAR"
      },
      "source": [
        "!aptitude install mecab libmecab-dev mecab-ipadic-utf8 git make curl xz-utils file -y"
      ],
      "execution_count": null,
      "outputs": []
    },
    {
      "cell_type": "code",
      "metadata": {
        "id": "vIvlsaVamLxS"
      },
      "source": [
        "!pip install mecab-python3"
      ],
      "execution_count": null,
      "outputs": []
    },
    {
      "cell_type": "code",
      "metadata": {
        "id": "WNAe2UuKwsMy"
      },
      "source": [
        "!pip install fasttext"
      ],
      "execution_count": null,
      "outputs": []
    },
    {
      "cell_type": "code",
      "metadata": {
        "id": "mpv_Goq7KLEe"
      },
      "source": [
        "!find / -name mecabrc"
      ],
      "execution_count": null,
      "outputs": []
    },
    {
      "cell_type": "code",
      "metadata": {
        "id": "K-5F48xrMN7d"
      },
      "source": [
        "!cp /etc/mecabrc /usr/local/etc/mecabrc"
      ],
      "execution_count": null,
      "outputs": []
    },
    {
      "cell_type": "code",
      "metadata": {
        "id": "Cw9ySSOnIets"
      },
      "source": [
        "#MeCab確認(python)\n",
        "import sys\n",
        "import MeCab\n",
        "mecab = MeCab.Tagger (\"-Owakati\")\n",
        "text = mecab.parse(\"すもももももももものうち \")\n",
        "print(text)"
      ],
      "execution_count": null,
      "outputs": []
    },
    {
      "cell_type": "code",
      "metadata": {
        "id": "m833wzaGNoPX"
      },
      "source": [
        "cd drive/MyDrive/Nishika/data"
      ],
      "execution_count": null,
      "outputs": []
    },
    {
      "cell_type": "code",
      "metadata": {
        "id": "6pMEHhdFQmB2"
      },
      "source": [
        "import csv\n",
        "csv.field_size_limit(1000000000)\n",
        "\n",
        "#csv読み込み\n",
        "csv_train = open(\"train.csv\", \"r\", errors=\"\", newline=\"\" )\n",
        "csv_test = open(\"test.csv\", \"r\", errors=\"\", newline=\"\" )\n",
        "csv_train_data = csv.reader(csv_train, delimiter=\",\", doublequote=True, lineterminator=\"\\r\\n\", quotechar='\"', skipinitialspace=True)\n",
        "csv_test_data = csv.reader(csv_test, delimiter=\",\", doublequote=True, lineterminator=\"\\r\\n\", quotechar='\"', skipinitialspace=True)"
      ],
      "execution_count": null,
      "outputs": []
    },
    {
      "cell_type": "code",
      "metadata": {
        "id": "LeqKRjb-Qq47"
      },
      "source": [
        "import re\n",
        "\n",
        "mecab = MeCab.Tagger (\"-Owakati\") #分かち書き設定\n",
        "\n",
        "def traindata2list(csv_data):\n",
        "    list_row = [] #分かち書き結果を保存\n",
        "    for row in csv_data:\n",
        "        text_r = row[1]\n",
        "        text_s = re.sub(r\"\\s\", \"\", text_r)\n",
        "        text = mecab.parse(text_s)\n",
        "        list_row.append((row[2]+'   '+text).rstrip(\"\\n\"))\n",
        "    return list_row\n",
        "\n",
        "def testdata2list(csv_data):\n",
        "    list_row = [] #分かち書き結果を保存\n",
        "    for row in csv_data:\n",
        "        text_r = row[1]\n",
        "        text_s = re.sub(r\"\\s\", \"\", text_r)\n",
        "        text = mecab.parse(text_s)\n",
        "        list_row.append((text).rstrip(\"\\n\"))\n",
        "    return list_row"
      ],
      "execution_count": null,
      "outputs": []
    },
    {
      "cell_type": "code",
      "metadata": {
        "id": "FCJAEWh27r1W"
      },
      "source": [
        "train_pre = traindata2list(csv_train_data)\n",
        "test_pre = testdata2list(csv_test_data)"
      ],
      "execution_count": null,
      "outputs": []
    },
    {
      "cell_type": "code",
      "metadata": {
        "id": "GMCdw2arSPpO"
      },
      "source": [
        "print(len(train_pre), len(test_pre))"
      ],
      "execution_count": null,
      "outputs": []
    },
    {
      "cell_type": "code",
      "metadata": {
        "id": "npqEJjgvR9k3"
      },
      "source": [
        "test_pre[0]"
      ],
      "execution_count": null,
      "outputs": []
    },
    {
      "cell_type": "code",
      "metadata": {
        "id": "1EhjcWe_U4fC"
      },
      "source": [
        "path_w = 'train_data.txt' #分かち書き済み学習用データ保存ファイル名\n",
        "with open(path_w, 'w') as f_out:\n",
        "    for row in train_pre:\n",
        "        label, text = row.strip().split('   ')\n",
        "        f_out.write('__label__{} {}\\n'.format(label, text))"
      ],
      "execution_count": null,
      "outputs": []
    },
    {
      "cell_type": "code",
      "metadata": {
        "id": "reeCSLhzwnJC"
      },
      "source": [
        "# fastTextで学習\n",
        "import fasttext as ft\n",
        "\n",
        "#model = ft.train_supervised(\"train_data.txt\", label_prefix='__label__',epoch=1000, loss=\"hs\")\n",
        "model = ft.train_supervised(\"train_data.txt\")\n",
        "model.save_model(\"akutagawa.bin\")"
      ],
      "execution_count": null,
      "outputs": []
    },
    {
      "cell_type": "code",
      "metadata": {
        "id": "f9ybasHoALbc"
      },
      "source": [
        "len(test_pre)"
      ],
      "execution_count": null,
      "outputs": []
    },
    {
      "cell_type": "code",
      "metadata": {
        "id": "AUANXMU6z4Yv"
      },
      "source": [
        "# test[0]は'body'なのでtest_pre[1:]\n",
        "for test_text in test_pre[1:3]:\n",
        "    predict_t = mecab.parse(test_text)\n",
        "    predict_ak = predict_t.replace(\"\\n\",\" \")\n",
        "    ret = model.predict(predict_ak)\n",
        "    print(ret[0][0].replace(\"__label__\", \"\"))"
      ],
      "execution_count": null,
      "outputs": []
    },
    {
      "cell_type": "code",
      "metadata": {
        "id": "wVY-OgJpBFdS"
      },
      "source": [
        "print(ret)"
      ],
      "execution_count": null,
      "outputs": []
    },
    {
      "cell_type": "code",
      "metadata": {
        "id": "9PCrQVf74YW4"
      },
      "source": [
        "predict"
      ],
      "execution_count": null,
      "outputs": []
    },
    {
      "cell_type": "code",
      "metadata": {
        "id": "O9a4KY4T3Mkj"
      },
      "source": [
        "def ft_predict(wakati):\n",
        "    classifier = ft.load_model('akutagawa.bin')\n",
        "    estimate = classifier.predict(wakati)\n",
        "    print(estimate)"
      ],
      "execution_count": null,
      "outputs": []
    },
    {
      "cell_type": "code",
      "metadata": {
        "id": "b3c1JeXI3R6z"
      },
      "source": [
        "\n",
        "ft_predict(predict)"
      ],
      "execution_count": null,
      "outputs": []
    },
    {
      "cell_type": "code",
      "metadata": {
        "id": "ISkzWX3sMgpY"
      },
      "source": [
        "import csv\n",
        "\n",
        "#csv読み込み\n",
        "csv_file = open(\"train_data.csv\", \"r\", errors=\"\", newline=\"\" )\n",
        "csv_data = csv.reader(csv_file, delimiter=\",\", doublequote=True, lineterminator=\"\\r\\n\", quotechar='\"', skipinitialspace=True)\n",
        "\n",
        "\n",
        "mecab = MeCab.Tagger (\"-Owakati\") #分かち書き設定\n",
        "list_row = [] #分かち書き結果を保存\n",
        "path_w = 'train_data.txt' #分かち書き済み学習用データ保存ファイル名\n",
        "\n",
        "\n",
        "for row in csv_data:\n",
        "    text = mecab.parse (row[1])\n",
        "    list_row.append((row[0]+'  '+text).rstrip(\"\\n\"))\n",
        "    \n",
        "f = open(path_w, 'w')\n",
        "for x in list_row:\n",
        "    f.write(str(x) + \"\\n\")\n",
        "f.close()"
      ],
      "execution_count": null,
      "outputs": []
    }
  ]
}