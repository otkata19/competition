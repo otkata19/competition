{
  "nbformat": 4,
  "nbformat_minor": 0,
  "metadata": {
    "language_info": {
      "codemirror_mode": {
        "name": "ipython",
        "version": 3
      },
      "file_extension": ".py",
      "mimetype": "text/x-python",
      "name": "python",
      "nbconvert_exporter": "python",
      "pygments_lexer": "ipython3",
      "version": "3.8.8"
    },
    "orig_nbformat": 2,
    "kernelspec": {
      "name": "python3",
      "display_name": "Python 3.8.8 64-bit ('py38': conda)",
      "metadata": {
        "interpreter": {
          "hash": "168065e78b87d8dffb691e13d6c7c849aa7e5c74da65b9131a558403d419cad9"
        }
      }
    },
    "colab": {
      "name": "lgbm_baseline.ipynb",
      "provenance": [],
      "include_colab_link": true
    },
    "accelerator": "GPU"
  },
  "cells": [
    {
      "cell_type": "markdown",
      "metadata": {
        "id": "view-in-github",
        "colab_type": "text"
      },
      "source": [
        "<a href=\"https://colab.research.google.com/github/otkata19/competition/blob/main/lgbm_baseline.ipynb\" target=\"_parent\"><img src=\"https://colab.research.google.com/assets/colab-badge.svg\" alt=\"Open In Colab\"/></a>"
      ]
    },
    {
      "cell_type": "markdown",
      "metadata": {
        "id": "ePFOk520Z3fg"
      },
      "source": [
        "## Import Libraries"
      ]
    },
    {
      "cell_type": "code",
      "metadata": {
        "id": "GfEoy_FiZ3fj"
      },
      "source": [
        "import lightgbm as lgb\n",
        "import matplotlib.pyplot as plt\n",
        "import pandas as pd\n",
        "\n",
        "from pathlib import Path\n",
        "from sklearn.metrics import log_loss\n",
        "from sklearn.model_selection import StratifiedKFold"
      ],
      "execution_count": 1,
      "outputs": []
    },
    {
      "cell_type": "code",
      "metadata": {
        "id": "4nb_CNeyZ3fk"
      },
      "source": [
        "%matplotlib inline\n",
        "font = {'family':'IPAexGothic'}\n",
        "plt.rc('font', **font)\n",
        "\n",
        "pd.set_option('display.max_rows', 100)\n",
        "pd.set_option('display.max_columns', 100)"
      ],
      "execution_count": 2,
      "outputs": []
    },
    {
      "cell_type": "markdown",
      "metadata": {
        "id": "dTyrYVXSZ3fl"
      },
      "source": [
        "## Load Files"
      ]
    },
    {
      "cell_type": "code",
      "metadata": {
        "colab": {
          "base_uri": "https://localhost:8080/"
        },
        "id": "Wzhext0ThkDa",
        "outputId": "919cbb7c-126e-488f-a3c8-c28166af73f3"
      },
      "source": [
        "from google.colab import drive\n",
        "drive.mount('/content/drive')"
      ],
      "execution_count": 3,
      "outputs": [
        {
          "output_type": "stream",
          "name": "stdout",
          "text": [
            "Mounted at /content/drive\n"
          ]
        }
      ]
    },
    {
      "cell_type": "code",
      "metadata": {
        "colab": {
          "base_uri": "https://localhost:8080/"
        },
        "id": "BArGSefRh0zN",
        "outputId": "c624e86b-476a-4463-e2c1-5c2ead540b85"
      },
      "source": [
        "cd drive/MyDrive/Colab\\ Notebooks"
      ],
      "execution_count": 5,
      "outputs": [
        {
          "output_type": "stream",
          "name": "stdout",
          "text": [
            "/content/drive/MyDrive/Colab Notebooks\n"
          ]
        }
      ]
    },
    {
      "cell_type": "code",
      "metadata": {
        "colab": {
          "base_uri": "https://localhost:8080/"
        },
        "id": "9zhMgQeHiCU1",
        "outputId": "c5d4752a-44f7-4b98-babe-cdc81492f220"
      },
      "source": [
        "ls"
      ],
      "execution_count": 6,
      "outputs": [
        {
          "output_type": "stream",
          "name": "stdout",
          "text": [
            " data_explanation.xlsx   \u001b[0m\u001b[01;34msignate\u001b[0m/\n",
            " data.zip                submission.csv\n",
            " detectron2演習.ipynb    test.csv\n",
            " kaggle.json             train.csv\n",
            " kaggle_test.ipynb       tutorial_forPeakersNLPOnline202002_hata.ipynb\n",
            " lgbm_baseline.ipynb     Untitled0.ipynb\n",
            " media.ipynb            \u001b[01;34m'確認問題(修正)'\u001b[0m/\n",
            " pytorch_test.ipynb      論文実装のためのPytorch.ipynb\n",
            " sample_submission.csv\n"
          ]
        }
      ]
    },
    {
      "cell_type": "code",
      "metadata": {
        "id": "ueJRl1OgkTyk"
      },
      "source": [
        "df_exp = pd.read_csv(\"sample_submission.csv\")"
      ],
      "execution_count": 7,
      "outputs": []
    },
    {
      "cell_type": "code",
      "metadata": {
        "id": "S4B_CWPEZ3fl"
      },
      "source": [
        "fparh = Path('./')\n",
        "\n",
        "train_fname = 'train.csv'\n",
        "test_fname = 'test.csv'\n",
        "sub_fname = 'sample_submission.csv'"
      ],
      "execution_count": 8,
      "outputs": []
    },
    {
      "cell_type": "code",
      "metadata": {
        "tags": [],
        "colab": {
          "base_uri": "https://localhost:8080/"
        },
        "id": "J7LW2M9tZ3fl",
        "outputId": "d9a5d553-8ffe-4127-c216-6f158dd76e38"
      },
      "source": [
        "df_train = pd.read_csv(fparh / train_fname)\n",
        "df_test = pd.read_csv(fparh / test_fname)\n",
        "submission = pd.read_csv(fparh / sub_fname)\n",
        "\n",
        "print('df_train shape :', df_train.shape)\n",
        "print('df_test shape :', df_test.shape)\n",
        "print('submission shape :', submission.shape)"
      ],
      "execution_count": 9,
      "outputs": [
        {
          "output_type": "stream",
          "name": "stdout",
          "text": [
            "df_train shape : (40000, 20)\n",
            "df_test shape : (8522, 19)\n",
            "submission shape : (8522, 6)\n"
          ]
        }
      ]
    },
    {
      "cell_type": "code",
      "metadata": {
        "id": "L-HIzXp8Z3fm"
      },
      "source": [
        "df_train.head()"
      ],
      "execution_count": null,
      "outputs": []
    },
    {
      "cell_type": "code",
      "metadata": {
        "id": "o8rgAFTrZ3fm"
      },
      "source": [
        "df_test.head()"
      ],
      "execution_count": null,
      "outputs": []
    },
    {
      "cell_type": "markdown",
      "metadata": {
        "id": "4y_IXFILZ3fn"
      },
      "source": [
        "## Distribution of Target"
      ]
    },
    {
      "cell_type": "code",
      "metadata": {
        "colab": {
          "base_uri": "https://localhost:8080/"
        },
        "id": "ZTdXsaISZ3fn",
        "outputId": "9d6a92df-cbae-49dc-a95e-fff80f274ac8"
      },
      "source": [
        "df_train['fav_novel_cnt_bin'].value_counts()"
      ],
      "execution_count": 10,
      "outputs": [
        {
          "output_type": "execute_result",
          "data": {
            "text/plain": [
              "0    18646\n",
              "1    14363\n",
              "2     4320\n",
              "3     1857\n",
              "4      814\n",
              "Name: fav_novel_cnt_bin, dtype: int64"
            ]
          },
          "metadata": {},
          "execution_count": 10
        }
      ]
    },
    {
      "cell_type": "code",
      "metadata": {
        "colab": {
          "base_uri": "https://localhost:8080/",
          "height": 537
        },
        "id": "2MjHSgvLZ3fo",
        "outputId": "929eb1a5-722f-4073-9638-2259c011ea47"
      },
      "source": [
        "fig = plt.figure(figsize=(16, 9))\n",
        "plt.hist(df_train['fav_novel_cnt_bin'], bins=5)\n",
        "plt.show()"
      ],
      "execution_count": null,
      "outputs": [
        {
          "output_type": "display_data",
          "data": {
            "image/png": "[encoded data removed]",
            "text/plain": [
              "<Figure size 1152x648 with 1 Axes>"
            ]
          },
          "metadata": {
            "needs_background": "light"
          }
        }
      ]
    },
    {
      "cell_type": "markdown",
      "metadata": {
        "id": "cAxbcwYeZ3fo"
      },
      "source": [
        "## Modeling"
      ]
    },
    {
      "cell_type": "code",
      "metadata": {
        "id": "RXK-eLqOZ3fp"
      },
      "source": [
        "def fit(tr_x, tr_y, va_x, va_y, tr_w=None, va_w=None):\n",
        "    \"\"\"\n",
        "    model training\n",
        "  \n",
        "    Parameters\n",
        "    ----------\n",
        "    tr_x: pd.DataFrame\n",
        "    tr_y: pd.DataFrame\n",
        "    va_x: pd.DataFrame\n",
        "    va_y: pd.DataFrame\n",
        "\n",
        "    Returns\n",
        "    ----------\n",
        "    model:\n",
        "        - 学習済みモデル\n",
        "    va_pred: \n",
        "        - 検証データの予測結果\n",
        "    \"\"\" \n",
        "    # パラメータの設定\n",
        "    params = {\n",
        "        'objective': 'multiclass',  \n",
        "        'boosting_type': 'gbdt',\n",
        "        'metrics': 'multi_logloss',\n",
        "        'num_class': 5,\n",
        "        'seed': 777,\n",
        "        'learning_rate': 0.01,\n",
        "        'n_jobs': -1,\n",
        "        'verbose': -1\n",
        "        }\n",
        "\n",
        "    # 学習セットを作成\n",
        "    lgb_train = lgb.Dataset(tr_x, tr_y)\n",
        "    lgb_eval = lgb.Dataset(va_x, va_y, reference=lgb_train)\n",
        "\n",
        "    # モデルの学習\n",
        "    model = lgb.train(\n",
        "        params,\n",
        "        train_set=lgb_train, # トレーニングデータの指定\n",
        "        valid_sets=[lgb_train, lgb_eval],\n",
        "        valid_names=['train', 'valid'],\n",
        "        num_boost_round=1000,\n",
        "        early_stopping_rounds = 100,\n",
        "        verbose_eval = 20\n",
        "        )\n",
        "    \n",
        "    # 検証データの予測確率\n",
        "    va_pred = model.predict(va_x)\n",
        "\n",
        "    return model, va_pred"
      ],
      "execution_count": 11,
      "outputs": []
    },
    {
      "cell_type": "code",
      "metadata": {
        "id": "GZ0h1X3XZ3fp"
      },
      "source": [
        "def scoring(y_true, y_prob):\n",
        "    \"\"\"Multi-class logloss\"\"\"\n",
        "    return log_loss(y_true, y_prob)"
      ],
      "execution_count": 12,
      "outputs": []
    },
    {
      "cell_type": "code",
      "metadata": {
        "colab": {
          "base_uri": "https://localhost:8080/"
        },
        "id": "UdhiyVGuq762",
        "outputId": "3bdbdcf7-52a0-48d0-8fcf-f132a0d45b7b"
      },
      "source": [
        "df_train['userid']"
      ],
      "execution_count": 13,
      "outputs": [
        {
          "output_type": "execute_result",
          "data": {
            "text/plain": [
              "0           9904\n",
              "1           6527\n",
              "2          13882\n",
              "3          13920\n",
              "4          12136\n",
              "          ...   \n",
              "39995    1964264\n",
              "39996    2180545\n",
              "39997    2212561\n",
              "39998     535814\n",
              "39999    1772298\n",
              "Name: userid, Length: 40000, dtype: int64"
            ]
          },
          "metadata": {},
          "execution_count": 13
        }
      ]
    },
    {
      "cell_type": "code",
      "metadata": {
        "colab": {
          "base_uri": "https://localhost:8080/",
          "height": 204
        },
        "id": "hH7izbOmZ3fq",
        "outputId": "ac0dff27-d3ff-40f2-e80c-4ada3593f098"
      },
      "source": [
        "# 値が全て同じカラムとobject型のカラムは使用しない\n",
        "drop_lst = ['end', 'isstop']\n",
        "# object_lst = ['ncode', 'general_firstup', 'title', 'story', 'keyword', 'writer']\n",
        "# object_lst = ['ncode', 'general_firstup', 'title', 'story', 'keyword', 'writer', 'iszankoku', 'istensei', 'istenni', 'isgl', 'isbl', 'pc_or_k']\n",
        "object_lst = ['ncode', 'general_firstup', 'title', 'story', 'keyword', 'writer', 'iszankoku', 'istensei', 'istenni', 'isgl', 'isbl', 'pc_or_k', 'biggenre', 'isr15']\n",
        "\n",
        "df_train_numeric = df_train.drop(drop_lst, axis=1)\n",
        "df_train_numeric = df_train_numeric.drop(object_lst, axis=1)\n",
        "\n",
        "df_test_numeric = df_test.drop(drop_lst, axis=1)\n",
        "df_test_numeric = df_test_numeric.drop(object_lst, axis=1)\n",
        "\n",
        "df_train_numeric.head()"
      ],
      "execution_count": 68,
      "outputs": [
        {
          "output_type": "execute_result",
          "data": {
            "text/html": [
              "<div>\n",
              "<style scoped>\n",
              "    .dataframe tbody tr th:only-of-type {\n",
              "        vertical-align: middle;\n",
              "    }\n",
              "\n",
              "    .dataframe tbody tr th {\n",
              "        vertical-align: top;\n",
              "    }\n",
              "\n",
              "    .dataframe thead th {\n",
              "        text-align: right;\n",
              "    }\n",
              "</style>\n",
              "<table border=\"1\" class=\"dataframe\">\n",
              "  <thead>\n",
              "    <tr style=\"text-align: right;\">\n",
              "      <th></th>\n",
              "      <th>userid</th>\n",
              "      <th>genre</th>\n",
              "      <th>novel_type</th>\n",
              "      <th>fav_novel_cnt_bin</th>\n",
              "    </tr>\n",
              "  </thead>\n",
              "  <tbody>\n",
              "    <tr>\n",
              "      <th>0</th>\n",
              "      <td>9904</td>\n",
              "      <td>402</td>\n",
              "      <td>1</td>\n",
              "      <td>1</td>\n",
              "    </tr>\n",
              "    <tr>\n",
              "      <th>1</th>\n",
              "      <td>6527</td>\n",
              "      <td>401</td>\n",
              "      <td>1</td>\n",
              "      <td>2</td>\n",
              "    </tr>\n",
              "    <tr>\n",
              "      <th>2</th>\n",
              "      <td>13882</td>\n",
              "      <td>403</td>\n",
              "      <td>1</td>\n",
              "      <td>3</td>\n",
              "    </tr>\n",
              "    <tr>\n",
              "      <th>3</th>\n",
              "      <td>13920</td>\n",
              "      <td>402</td>\n",
              "      <td>1</td>\n",
              "      <td>1</td>\n",
              "    </tr>\n",
              "    <tr>\n",
              "      <th>4</th>\n",
              "      <td>12136</td>\n",
              "      <td>401</td>\n",
              "      <td>1</td>\n",
              "      <td>1</td>\n",
              "    </tr>\n",
              "  </tbody>\n",
              "</table>\n",
              "</div>"
            ],
            "text/plain": [
              "   userid  genre  novel_type  fav_novel_cnt_bin\n",
              "0    9904    402           1                  1\n",
              "1    6527    401           1                  2\n",
              "2   13882    403           1                  3\n",
              "3   13920    402           1                  1\n",
              "4   12136    401           1                  1"
            ]
          },
          "metadata": {},
          "execution_count": 68
        }
      ]
    },
    {
      "cell_type": "code",
      "metadata": {
        "id": "uM4ZdmcDZ3fq"
      },
      "source": [
        "# 説明変数,目的変数を分割\n",
        "X = df_train_numeric.drop('fav_novel_cnt_bin', axis=1)\n",
        "y = df_train_numeric['fav_novel_cnt_bin']"
      ],
      "execution_count": 69,
      "outputs": []
    },
    {
      "cell_type": "code",
      "metadata": {
        "colab": {
          "base_uri": "https://localhost:8080/",
          "height": 419
        },
        "id": "vAcpeecgcTpL",
        "outputId": "9dc06307-8714-4a88-d388-251601fb1008"
      },
      "source": [
        "df_pred = pd.DataFrame(index=X.index, columns=['proba_0', 'proba_1', 'proba_2',\t'proba_3', 'proba_4'])\n",
        "df_pred"
      ],
      "execution_count": 70,
      "outputs": [
        {
          "output_type": "execute_result",
          "data": {
            "text/html": [
              "<div>\n",
              "<style scoped>\n",
              "    .dataframe tbody tr th:only-of-type {\n",
              "        vertical-align: middle;\n",
              "    }\n",
              "\n",
              "    .dataframe tbody tr th {\n",
              "        vertical-align: top;\n",
              "    }\n",
              "\n",
              "    .dataframe thead th {\n",
              "        text-align: right;\n",
              "    }\n",
              "</style>\n",
              "<table border=\"1\" class=\"dataframe\">\n",
              "  <thead>\n",
              "    <tr style=\"text-align: right;\">\n",
              "      <th></th>\n",
              "      <th>proba_0</th>\n",
              "      <th>proba_1</th>\n",
              "      <th>proba_2</th>\n",
              "      <th>proba_3</th>\n",
              "      <th>proba_4</th>\n",
              "    </tr>\n",
              "  </thead>\n",
              "  <tbody>\n",
              "    <tr>\n",
              "      <th>0</th>\n",
              "      <td>NaN</td>\n",
              "      <td>NaN</td>\n",
              "      <td>NaN</td>\n",
              "      <td>NaN</td>\n",
              "      <td>NaN</td>\n",
              "    </tr>\n",
              "    <tr>\n",
              "      <th>1</th>\n",
              "      <td>NaN</td>\n",
              "      <td>NaN</td>\n",
              "      <td>NaN</td>\n",
              "      <td>NaN</td>\n",
              "      <td>NaN</td>\n",
              "    </tr>\n",
              "    <tr>\n",
              "      <th>2</th>\n",
              "      <td>NaN</td>\n",
              "      <td>NaN</td>\n",
              "      <td>NaN</td>\n",
              "      <td>NaN</td>\n",
              "      <td>NaN</td>\n",
              "    </tr>\n",
              "    <tr>\n",
              "      <th>3</th>\n",
              "      <td>NaN</td>\n",
              "      <td>NaN</td>\n",
              "      <td>NaN</td>\n",
              "      <td>NaN</td>\n",
              "      <td>NaN</td>\n",
              "    </tr>\n",
              "    <tr>\n",
              "      <th>4</th>\n",
              "      <td>NaN</td>\n",
              "      <td>NaN</td>\n",
              "      <td>NaN</td>\n",
              "      <td>NaN</td>\n",
              "      <td>NaN</td>\n",
              "    </tr>\n",
              "    <tr>\n",
              "      <th>...</th>\n",
              "      <td>...</td>\n",
              "      <td>...</td>\n",
              "      <td>...</td>\n",
              "      <td>...</td>\n",
              "      <td>...</td>\n",
              "    </tr>\n",
              "    <tr>\n",
              "      <th>39995</th>\n",
              "      <td>NaN</td>\n",
              "      <td>NaN</td>\n",
              "      <td>NaN</td>\n",
              "      <td>NaN</td>\n",
              "      <td>NaN</td>\n",
              "    </tr>\n",
              "    <tr>\n",
              "      <th>39996</th>\n",
              "      <td>NaN</td>\n",
              "      <td>NaN</td>\n",
              "      <td>NaN</td>\n",
              "      <td>NaN</td>\n",
              "      <td>NaN</td>\n",
              "    </tr>\n",
              "    <tr>\n",
              "      <th>39997</th>\n",
              "      <td>NaN</td>\n",
              "      <td>NaN</td>\n",
              "      <td>NaN</td>\n",
              "      <td>NaN</td>\n",
              "      <td>NaN</td>\n",
              "    </tr>\n",
              "    <tr>\n",
              "      <th>39998</th>\n",
              "      <td>NaN</td>\n",
              "      <td>NaN</td>\n",
              "      <td>NaN</td>\n",
              "      <td>NaN</td>\n",
              "      <td>NaN</td>\n",
              "    </tr>\n",
              "    <tr>\n",
              "      <th>39999</th>\n",
              "      <td>NaN</td>\n",
              "      <td>NaN</td>\n",
              "      <td>NaN</td>\n",
              "      <td>NaN</td>\n",
              "      <td>NaN</td>\n",
              "    </tr>\n",
              "  </tbody>\n",
              "</table>\n",
              "<p>40000 rows × 5 columns</p>\n",
              "</div>"
            ],
            "text/plain": [
              "      proba_0 proba_1 proba_2 proba_3 proba_4\n",
              "0         NaN     NaN     NaN     NaN     NaN\n",
              "1         NaN     NaN     NaN     NaN     NaN\n",
              "2         NaN     NaN     NaN     NaN     NaN\n",
              "3         NaN     NaN     NaN     NaN     NaN\n",
              "4         NaN     NaN     NaN     NaN     NaN\n",
              "...       ...     ...     ...     ...     ...\n",
              "39995     NaN     NaN     NaN     NaN     NaN\n",
              "39996     NaN     NaN     NaN     NaN     NaN\n",
              "39997     NaN     NaN     NaN     NaN     NaN\n",
              "39998     NaN     NaN     NaN     NaN     NaN\n",
              "39999     NaN     NaN     NaN     NaN     NaN\n",
              "\n",
              "[40000 rows x 5 columns]"
            ]
          },
          "metadata": {},
          "execution_count": 70
        }
      ]
    },
    {
      "cell_type": "code",
      "metadata": {
        "colab": {
          "base_uri": "https://localhost:8080/"
        },
        "id": "lqklJS9Sdxeo",
        "outputId": "2f7939a8-8c1f-4b14-beb9-3aee03471442"
      },
      "source": [
        "y"
      ],
      "execution_count": 71,
      "outputs": [
        {
          "output_type": "execute_result",
          "data": {
            "text/plain": [
              "0        1\n",
              "1        2\n",
              "2        3\n",
              "3        1\n",
              "4        1\n",
              "        ..\n",
              "39995    2\n",
              "39996    0\n",
              "39997    0\n",
              "39998    2\n",
              "39999    0\n",
              "Name: fav_novel_cnt_bin, Length: 40000, dtype: int64"
            ]
          },
          "metadata": {},
          "execution_count": 71
        }
      ]
    },
    {
      "cell_type": "code",
      "metadata": {
        "colab": {
          "base_uri": "https://localhost:8080/",
          "height": 204
        },
        "id": "i8j3kt-8Mg5x",
        "outputId": "e5b0536e-b021-4d42-db49-c72f0a09643c"
      },
      "source": [
        "X.tail()"
      ],
      "execution_count": 73,
      "outputs": [
        {
          "output_type": "execute_result",
          "data": {
            "text/html": [
              "<div>\n",
              "<style scoped>\n",
              "    .dataframe tbody tr th:only-of-type {\n",
              "        vertical-align: middle;\n",
              "    }\n",
              "\n",
              "    .dataframe tbody tr th {\n",
              "        vertical-align: top;\n",
              "    }\n",
              "\n",
              "    .dataframe thead th {\n",
              "        text-align: right;\n",
              "    }\n",
              "</style>\n",
              "<table border=\"1\" class=\"dataframe\">\n",
              "  <thead>\n",
              "    <tr style=\"text-align: right;\">\n",
              "      <th></th>\n",
              "      <th>userid</th>\n",
              "      <th>genre</th>\n",
              "      <th>novel_type</th>\n",
              "    </tr>\n",
              "  </thead>\n",
              "  <tbody>\n",
              "    <tr>\n",
              "      <th>39995</th>\n",
              "      <td>1964264</td>\n",
              "      <td>9903</td>\n",
              "      <td>2</td>\n",
              "    </tr>\n",
              "    <tr>\n",
              "      <th>39996</th>\n",
              "      <td>2180545</td>\n",
              "      <td>102</td>\n",
              "      <td>2</td>\n",
              "    </tr>\n",
              "    <tr>\n",
              "      <th>39997</th>\n",
              "      <td>2212561</td>\n",
              "      <td>307</td>\n",
              "      <td>2</td>\n",
              "    </tr>\n",
              "    <tr>\n",
              "      <th>39998</th>\n",
              "      <td>535814</td>\n",
              "      <td>201</td>\n",
              "      <td>2</td>\n",
              "    </tr>\n",
              "    <tr>\n",
              "      <th>39999</th>\n",
              "      <td>1772298</td>\n",
              "      <td>302</td>\n",
              "      <td>2</td>\n",
              "    </tr>\n",
              "  </tbody>\n",
              "</table>\n",
              "</div>"
            ],
            "text/plain": [
              "        userid  genre  novel_type\n",
              "39995  1964264   9903           2\n",
              "39996  2180545    102           2\n",
              "39997  2212561    307           2\n",
              "39998   535814    201           2\n",
              "39999  1772298    302           2"
            ]
          },
          "metadata": {},
          "execution_count": 73
        }
      ]
    },
    {
      "cell_type": "code",
      "metadata": {
        "colab": {
          "base_uri": "https://localhost:8080/"
        },
        "id": "4rW_xr9cShe5",
        "outputId": "f35c683c-eb9f-4de0-8adc-d6377a8e7981"
      },
      "source": [
        "y[14819:14829]"
      ],
      "execution_count": 74,
      "outputs": [
        {
          "output_type": "execute_result",
          "data": {
            "text/plain": [
              "14819    0\n",
              "14820    1\n",
              "14821    0\n",
              "14822    0\n",
              "14823    0\n",
              "14824    0\n",
              "14825    0\n",
              "14826    1\n",
              "14827    0\n",
              "14828    1\n",
              "Name: fav_novel_cnt_bin, dtype: int64"
            ]
          },
          "metadata": {},
          "execution_count": 74
        }
      ]
    },
    {
      "cell_type": "code",
      "metadata": {
        "colab": {
          "base_uri": "https://localhost:8080/"
        },
        "id": "SIgUfIMxZ3fq",
        "outputId": "aa2a392c-9471-4484-ae73-eec4176ae189"
      },
      "source": [
        "models = []\n",
        "df_pred = pd.DataFrame(index=X.index, columns=['proba_0', 'proba_1', 'proba_2',\t'proba_3', 'proba_4'])\n",
        "\n",
        "# トレーニングデータ,テストデータの分割\n",
        "skf = StratifiedKFold(n_splits=5)\n",
        "for train_index, valid_index in skf.split(X, y):\n",
        "    print('---CV{i}---')\n",
        "    X_train, y_train = X.loc[train_index], y.loc[train_index]\n",
        "    X_valid, y_valid = X.loc[valid_index], y.loc[valid_index]\n",
        "    # モデルの学習\n",
        "    model, va_pred = fit(X_train, y_train, X_valid, y_valid) \n",
        "    # モデルの格納\n",
        "    models.append(model)\n",
        "    # 検証データの予測結果を格納\n",
        "    df_pred.loc[valid_index] = va_pred"
      ],
      "execution_count": 75,
      "outputs": [
        {
          "output_type": "stream",
          "name": "stdout",
          "text": [
            "---CV{i}---\n",
            "Training until validation scores don't improve for 100 rounds.\n",
            "[20]\ttrain's multi_logloss: 1.12403\tvalid's multi_logloss: 1.15525\n",
            "[40]\ttrain's multi_logloss: 1.08209\tvalid's multi_logloss: 1.13279\n",
            "[60]\ttrain's multi_logloss: 1.05109\tvalid's multi_logloss: 1.11667\n",
            "[80]\ttrain's multi_logloss: 1.02708\tvalid's multi_logloss: 1.10525\n",
            "[100]\ttrain's multi_logloss: 1.00816\tvalid's multi_logloss: 1.09637\n",
            "[120]\ttrain's multi_logloss: 0.992913\tvalid's multi_logloss: 1.0884\n",
            "[140]\ttrain's multi_logloss: 0.980467\tvalid's multi_logloss: 1.08152\n",
            "[160]\ttrain's multi_logloss: 0.97016\tvalid's multi_logloss: 1.07646\n",
            "[180]\ttrain's multi_logloss: 0.961238\tvalid's multi_logloss: 1.07223\n",
            "[200]\ttrain's multi_logloss: 0.953575\tvalid's multi_logloss: 1.06889\n",
            "[220]\ttrain's multi_logloss: 0.946785\tvalid's multi_logloss: 1.0661\n",
            "[240]\ttrain's multi_logloss: 0.940498\tvalid's multi_logloss: 1.0635\n",
            "[260]\ttrain's multi_logloss: 0.935118\tvalid's multi_logloss: 1.0616\n",
            "[280]\ttrain's multi_logloss: 0.930411\tvalid's multi_logloss: 1.0607\n",
            "[300]\ttrain's multi_logloss: 0.926227\tvalid's multi_logloss: 1.0602\n",
            "[320]\ttrain's multi_logloss: 0.922537\tvalid's multi_logloss: 1.0598\n",
            "[340]\ttrain's multi_logloss: 0.919115\tvalid's multi_logloss: 1.05932\n",
            "[360]\ttrain's multi_logloss: 0.916036\tvalid's multi_logloss: 1.05914\n",
            "[380]\ttrain's multi_logloss: 0.913211\tvalid's multi_logloss: 1.05906\n",
            "[400]\ttrain's multi_logloss: 0.910538\tvalid's multi_logloss: 1.05892\n",
            "[420]\ttrain's multi_logloss: 0.908021\tvalid's multi_logloss: 1.05882\n",
            "[440]\ttrain's multi_logloss: 0.905672\tvalid's multi_logloss: 1.0588\n",
            "[460]\ttrain's multi_logloss: 0.903571\tvalid's multi_logloss: 1.05891\n",
            "[480]\ttrain's multi_logloss: 0.901554\tvalid's multi_logloss: 1.05905\n",
            "[500]\ttrain's multi_logloss: 0.899525\tvalid's multi_logloss: 1.05905\n",
            "Early stopping, best iteration is:\n",
            "[416]\ttrain's multi_logloss: 0.908531\tvalid's multi_logloss: 1.05872\n",
            "---CV{i}---\n",
            "Training until validation scores don't improve for 100 rounds.\n",
            "[20]\ttrain's multi_logloss: 1.12374\tvalid's multi_logloss: 1.14623\n",
            "[40]\ttrain's multi_logloss: 1.08118\tvalid's multi_logloss: 1.11904\n",
            "[60]\ttrain's multi_logloss: 1.04952\tvalid's multi_logloss: 1.09954\n",
            "[80]\ttrain's multi_logloss: 1.02509\tvalid's multi_logloss: 1.08481\n",
            "[100]\ttrain's multi_logloss: 1.00581\tvalid's multi_logloss: 1.07346\n",
            "[120]\ttrain's multi_logloss: 0.990514\tvalid's multi_logloss: 1.06488\n",
            "[140]\ttrain's multi_logloss: 0.978034\tvalid's multi_logloss: 1.05846\n",
            "[160]\ttrain's multi_logloss: 0.967488\tvalid's multi_logloss: 1.05327\n",
            "[180]\ttrain's multi_logloss: 0.958209\tvalid's multi_logloss: 1.04835\n",
            "[200]\ttrain's multi_logloss: 0.950308\tvalid's multi_logloss: 1.04438\n",
            "[220]\ttrain's multi_logloss: 0.943436\tvalid's multi_logloss: 1.04091\n",
            "[240]\ttrain's multi_logloss: 0.937498\tvalid's multi_logloss: 1.03745\n",
            "[260]\ttrain's multi_logloss: 0.932349\tvalid's multi_logloss: 1.03479\n",
            "[280]\ttrain's multi_logloss: 0.927874\tvalid's multi_logloss: 1.03271\n",
            "[300]\ttrain's multi_logloss: 0.923839\tvalid's multi_logloss: 1.03106\n",
            "[320]\ttrain's multi_logloss: 0.920236\tvalid's multi_logloss: 1.02955\n",
            "[340]\ttrain's multi_logloss: 0.916997\tvalid's multi_logloss: 1.0282\n",
            "[360]\ttrain's multi_logloss: 0.913894\tvalid's multi_logloss: 1.02707\n",
            "[380]\ttrain's multi_logloss: 0.91114\tvalid's multi_logloss: 1.02614\n",
            "[400]\ttrain's multi_logloss: 0.908635\tvalid's multi_logloss: 1.02537\n",
            "[420]\ttrain's multi_logloss: 0.906249\tvalid's multi_logloss: 1.02489\n",
            "[440]\ttrain's multi_logloss: 0.904049\tvalid's multi_logloss: 1.02443\n",
            "[460]\ttrain's multi_logloss: 0.901915\tvalid's multi_logloss: 1.02431\n",
            "[480]\ttrain's multi_logloss: 0.899938\tvalid's multi_logloss: 1.02425\n",
            "[500]\ttrain's multi_logloss: 0.898036\tvalid's multi_logloss: 1.02427\n",
            "[520]\ttrain's multi_logloss: 0.896242\tvalid's multi_logloss: 1.02428\n",
            "[540]\ttrain's multi_logloss: 0.894464\tvalid's multi_logloss: 1.02428\n",
            "[560]\ttrain's multi_logloss: 0.892693\tvalid's multi_logloss: 1.02448\n",
            "[580]\ttrain's multi_logloss: 0.890997\tvalid's multi_logloss: 1.02463\n",
            "[600]\ttrain's multi_logloss: 0.889276\tvalid's multi_logloss: 1.02488\n",
            "Early stopping, best iteration is:\n",
            "[514]\ttrain's multi_logloss: 0.896792\tvalid's multi_logloss: 1.02421\n",
            "---CV{i}---\n",
            "Training until validation scores don't improve for 100 rounds.\n",
            "[20]\ttrain's multi_logloss: 1.1272\tvalid's multi_logloss: 1.14705\n",
            "[40]\ttrain's multi_logloss: 1.08674\tvalid's multi_logloss: 1.12159\n",
            "[60]\ttrain's multi_logloss: 1.0566\tvalid's multi_logloss: 1.10123\n",
            "[80]\ttrain's multi_logloss: 1.03338\tvalid's multi_logloss: 1.0854\n",
            "[100]\ttrain's multi_logloss: 1.01501\tvalid's multi_logloss: 1.07344\n",
            "[120]\ttrain's multi_logloss: 1.00032\tvalid's multi_logloss: 1.06509\n",
            "[140]\ttrain's multi_logloss: 0.988237\tvalid's multi_logloss: 1.05731\n",
            "[160]\ttrain's multi_logloss: 0.977875\tvalid's multi_logloss: 1.05259\n",
            "[180]\ttrain's multi_logloss: 0.969154\tvalid's multi_logloss: 1.04896\n",
            "[200]\ttrain's multi_logloss: 0.961526\tvalid's multi_logloss: 1.04441\n",
            "[220]\ttrain's multi_logloss: 0.955039\tvalid's multi_logloss: 1.04056\n",
            "[240]\ttrain's multi_logloss: 0.949471\tvalid's multi_logloss: 1.0372\n",
            "[260]\ttrain's multi_logloss: 0.944448\tvalid's multi_logloss: 1.03377\n",
            "[280]\ttrain's multi_logloss: 0.939963\tvalid's multi_logloss: 1.03037\n",
            "[300]\ttrain's multi_logloss: 0.936075\tvalid's multi_logloss: 1.02714\n",
            "[320]\ttrain's multi_logloss: 0.932553\tvalid's multi_logloss: 1.02464\n",
            "[340]\ttrain's multi_logloss: 0.929336\tvalid's multi_logloss: 1.02305\n",
            "[360]\ttrain's multi_logloss: 0.926358\tvalid's multi_logloss: 1.02178\n",
            "[380]\ttrain's multi_logloss: 0.923609\tvalid's multi_logloss: 1.02054\n",
            "[400]\ttrain's multi_logloss: 0.921116\tvalid's multi_logloss: 1.01957\n",
            "[420]\ttrain's multi_logloss: 0.918765\tvalid's multi_logloss: 1.01882\n",
            "[440]\ttrain's multi_logloss: 0.916592\tvalid's multi_logloss: 1.0184\n",
            "[460]\ttrain's multi_logloss: 0.914535\tvalid's multi_logloss: 1.01791\n",
            "[480]\ttrain's multi_logloss: 0.912632\tvalid's multi_logloss: 1.01752\n",
            "[500]\ttrain's multi_logloss: 0.910842\tvalid's multi_logloss: 1.01734\n",
            "[520]\ttrain's multi_logloss: 0.908977\tvalid's multi_logloss: 1.01706\n",
            "[540]\ttrain's multi_logloss: 0.907243\tvalid's multi_logloss: 1.01658\n",
            "[560]\ttrain's multi_logloss: 0.905491\tvalid's multi_logloss: 1.01648\n",
            "[580]\ttrain's multi_logloss: 0.903796\tvalid's multi_logloss: 1.01637\n",
            "[600]\ttrain's multi_logloss: 0.902046\tvalid's multi_logloss: 1.01598\n",
            "[620]\ttrain's multi_logloss: 0.90019\tvalid's multi_logloss: 1.01558\n",
            "[640]\ttrain's multi_logloss: 0.898448\tvalid's multi_logloss: 1.01518\n",
            "[660]\ttrain's multi_logloss: 0.896872\tvalid's multi_logloss: 1.015\n",
            "[680]\ttrain's multi_logloss: 0.895414\tvalid's multi_logloss: 1.01485\n",
            "[700]\ttrain's multi_logloss: 0.894106\tvalid's multi_logloss: 1.0146\n",
            "[720]\ttrain's multi_logloss: 0.892838\tvalid's multi_logloss: 1.01444\n",
            "[740]\ttrain's multi_logloss: 0.891562\tvalid's multi_logloss: 1.01429\n",
            "[760]\ttrain's multi_logloss: 0.890333\tvalid's multi_logloss: 1.01416\n",
            "[780]\ttrain's multi_logloss: 0.889088\tvalid's multi_logloss: 1.01395\n",
            "[800]\ttrain's multi_logloss: 0.887868\tvalid's multi_logloss: 1.01388\n",
            "[820]\ttrain's multi_logloss: 0.886667\tvalid's multi_logloss: 1.01401\n",
            "[840]\ttrain's multi_logloss: 0.885528\tvalid's multi_logloss: 1.0142\n",
            "[860]\ttrain's multi_logloss: 0.88438\tvalid's multi_logloss: 1.01456\n",
            "[880]\ttrain's multi_logloss: 0.883285\tvalid's multi_logloss: 1.01451\n",
            "[900]\ttrain's multi_logloss: 0.882175\tvalid's multi_logloss: 1.01437\n",
            "Early stopping, best iteration is:\n",
            "[809]\ttrain's multi_logloss: 0.887332\tvalid's multi_logloss: 1.01387\n",
            "---CV{i}---\n",
            "Training until validation scores don't improve for 100 rounds.\n",
            "[20]\ttrain's multi_logloss: 1.12703\tvalid's multi_logloss: 1.12994\n",
            "[40]\ttrain's multi_logloss: 1.08625\tvalid's multi_logloss: 1.09286\n",
            "[60]\ttrain's multi_logloss: 1.05555\tvalid's multi_logloss: 1.06521\n",
            "[80]\ttrain's multi_logloss: 1.03203\tvalid's multi_logloss: 1.04481\n",
            "[100]\ttrain's multi_logloss: 1.01358\tvalid's multi_logloss: 1.03\n",
            "[120]\ttrain's multi_logloss: 0.998657\tvalid's multi_logloss: 1.01871\n",
            "[140]\ttrain's multi_logloss: 0.986378\tvalid's multi_logloss: 1.00984\n",
            "[160]\ttrain's multi_logloss: 0.976167\tvalid's multi_logloss: 1.00238\n",
            "[180]\ttrain's multi_logloss: 0.967425\tvalid's multi_logloss: 0.996239\n",
            "[200]\ttrain's multi_logloss: 0.959966\tvalid's multi_logloss: 0.99124\n",
            "[220]\ttrain's multi_logloss: 0.953543\tvalid's multi_logloss: 0.987449\n",
            "[240]\ttrain's multi_logloss: 0.94807\tvalid's multi_logloss: 0.984643\n",
            "[260]\ttrain's multi_logloss: 0.943327\tvalid's multi_logloss: 0.982281\n",
            "[280]\ttrain's multi_logloss: 0.939114\tvalid's multi_logloss: 0.980174\n",
            "[300]\ttrain's multi_logloss: 0.935406\tvalid's multi_logloss: 0.978654\n",
            "[320]\ttrain's multi_logloss: 0.932002\tvalid's multi_logloss: 0.97709\n",
            "[340]\ttrain's multi_logloss: 0.928903\tvalid's multi_logloss: 0.975807\n",
            "[360]\ttrain's multi_logloss: 0.926091\tvalid's multi_logloss: 0.974748\n",
            "[380]\ttrain's multi_logloss: 0.923482\tvalid's multi_logloss: 0.973954\n",
            "[400]\ttrain's multi_logloss: 0.921042\tvalid's multi_logloss: 0.973342\n",
            "[420]\ttrain's multi_logloss: 0.918846\tvalid's multi_logloss: 0.973107\n",
            "[440]\ttrain's multi_logloss: 0.916775\tvalid's multi_logloss: 0.972749\n",
            "[460]\ttrain's multi_logloss: 0.91485\tvalid's multi_logloss: 0.972498\n",
            "[480]\ttrain's multi_logloss: 0.912999\tvalid's multi_logloss: 0.972429\n",
            "[500]\ttrain's multi_logloss: 0.911292\tvalid's multi_logloss: 0.972169\n",
            "[520]\ttrain's multi_logloss: 0.909535\tvalid's multi_logloss: 0.971929\n",
            "[540]\ttrain's multi_logloss: 0.90784\tvalid's multi_logloss: 0.971741\n",
            "[560]\ttrain's multi_logloss: 0.906051\tvalid's multi_logloss: 0.97164\n",
            "[580]\ttrain's multi_logloss: 0.904355\tvalid's multi_logloss: 0.971347\n",
            "[600]\ttrain's multi_logloss: 0.90278\tvalid's multi_logloss: 0.970993\n",
            "[620]\ttrain's multi_logloss: 0.901265\tvalid's multi_logloss: 0.970686\n",
            "[640]\ttrain's multi_logloss: 0.899624\tvalid's multi_logloss: 0.970431\n",
            "[660]\ttrain's multi_logloss: 0.898061\tvalid's multi_logloss: 0.970197\n",
            "[680]\ttrain's multi_logloss: 0.896595\tvalid's multi_logloss: 0.969988\n",
            "[700]\ttrain's multi_logloss: 0.895251\tvalid's multi_logloss: 0.969589\n",
            "[720]\ttrain's multi_logloss: 0.893963\tvalid's multi_logloss: 0.969258\n",
            "[740]\ttrain's multi_logloss: 0.892719\tvalid's multi_logloss: 0.968887\n",
            "[760]\ttrain's multi_logloss: 0.891496\tvalid's multi_logloss: 0.968691\n",
            "[780]\ttrain's multi_logloss: 0.890319\tvalid's multi_logloss: 0.968503\n",
            "[800]\ttrain's multi_logloss: 0.889217\tvalid's multi_logloss: 0.968403\n",
            "[820]\ttrain's multi_logloss: 0.888178\tvalid's multi_logloss: 0.968405\n",
            "[840]\ttrain's multi_logloss: 0.887139\tvalid's multi_logloss: 0.968594\n",
            "[860]\ttrain's multi_logloss: 0.885948\tvalid's multi_logloss: 0.96852\n",
            "[880]\ttrain's multi_logloss: 0.884763\tvalid's multi_logloss: 0.968368\n",
            "[900]\ttrain's multi_logloss: 0.883655\tvalid's multi_logloss: 0.968277\n",
            "[920]\ttrain's multi_logloss: 0.882593\tvalid's multi_logloss: 0.968198\n",
            "[940]\ttrain's multi_logloss: 0.881461\tvalid's multi_logloss: 0.968112\n",
            "[960]\ttrain's multi_logloss: 0.88038\tvalid's multi_logloss: 0.968117\n",
            "[980]\ttrain's multi_logloss: 0.879345\tvalid's multi_logloss: 0.968094\n",
            "[1000]\ttrain's multi_logloss: 0.8783\tvalid's multi_logloss: 0.968018\n",
            "Did not meet early stopping. Best iteration is:\n",
            "[1000]\ttrain's multi_logloss: 0.8783\tvalid's multi_logloss: 0.968018\n",
            "---CV{i}---\n",
            "Training until validation scores don't improve for 100 rounds.\n",
            "[20]\ttrain's multi_logloss: 1.12701\tvalid's multi_logloss: 1.12588\n",
            "[40]\ttrain's multi_logloss: 1.08637\tvalid's multi_logloss: 1.08688\n",
            "[60]\ttrain's multi_logloss: 1.05634\tvalid's multi_logloss: 1.06023\n",
            "[80]\ttrain's multi_logloss: 1.03334\tvalid's multi_logloss: 1.0412\n",
            "[100]\ttrain's multi_logloss: 1.01501\tvalid's multi_logloss: 1.02767\n",
            "[120]\ttrain's multi_logloss: 1.0004\tvalid's multi_logloss: 1.01767\n",
            "[140]\ttrain's multi_logloss: 0.988516\tvalid's multi_logloss: 1.00941\n",
            "[160]\ttrain's multi_logloss: 0.978562\tvalid's multi_logloss: 1.00281\n",
            "[180]\ttrain's multi_logloss: 0.970099\tvalid's multi_logloss: 0.997891\n",
            "[200]\ttrain's multi_logloss: 0.962807\tvalid's multi_logloss: 0.993422\n",
            "[220]\ttrain's multi_logloss: 0.956454\tvalid's multi_logloss: 0.989256\n",
            "[240]\ttrain's multi_logloss: 0.950949\tvalid's multi_logloss: 0.986079\n",
            "[260]\ttrain's multi_logloss: 0.946165\tvalid's multi_logloss: 0.983852\n",
            "[280]\ttrain's multi_logloss: 0.941919\tvalid's multi_logloss: 0.982118\n",
            "[300]\ttrain's multi_logloss: 0.938098\tvalid's multi_logloss: 0.980592\n",
            "[320]\ttrain's multi_logloss: 0.934624\tvalid's multi_logloss: 0.979387\n",
            "[340]\ttrain's multi_logloss: 0.931524\tvalid's multi_logloss: 0.978886\n",
            "[360]\ttrain's multi_logloss: 0.928678\tvalid's multi_logloss: 0.978836\n",
            "[380]\ttrain's multi_logloss: 0.92609\tvalid's multi_logloss: 0.978949\n",
            "[400]\ttrain's multi_logloss: 0.923685\tvalid's multi_logloss: 0.979141\n",
            "[420]\ttrain's multi_logloss: 0.921365\tvalid's multi_logloss: 0.978927\n",
            "[440]\ttrain's multi_logloss: 0.919216\tvalid's multi_logloss: 0.978561\n",
            "[460]\ttrain's multi_logloss: 0.917243\tvalid's multi_logloss: 0.978338\n",
            "[480]\ttrain's multi_logloss: 0.915339\tvalid's multi_logloss: 0.978236\n",
            "[500]\ttrain's multi_logloss: 0.913526\tvalid's multi_logloss: 0.978171\n",
            "[520]\ttrain's multi_logloss: 0.911844\tvalid's multi_logloss: 0.97829\n",
            "[540]\ttrain's multi_logloss: 0.910282\tvalid's multi_logloss: 0.9786\n",
            "[560]\ttrain's multi_logloss: 0.908702\tvalid's multi_logloss: 0.978913\n",
            "[580]\ttrain's multi_logloss: 0.907102\tvalid's multi_logloss: 0.979123\n",
            "[600]\ttrain's multi_logloss: 0.905489\tvalid's multi_logloss: 0.979479\n",
            "Early stopping, best iteration is:\n",
            "[504]\ttrain's multi_logloss: 0.913178\tvalid's multi_logloss: 0.978135\n"
          ]
        }
      ]
    },
    {
      "cell_type": "code",
      "metadata": {
        "colab": {
          "base_uri": "https://localhost:8080/"
        },
        "collapsed": true,
        "id": "UhuYCXEYZNDY",
        "outputId": "2709a633-e9ff-468f-fb6e-1de9a8bf699b"
      },
      "source": [
        "models = []\n",
        "df_pred = pd.DataFrame(index=X.index, columns=['proba_0', 'proba_1', 'proba_2',\t'proba_3', 'proba_4'])\n",
        "\n",
        "# トレーニングデータ,テストデータの分割\n",
        "skf = StratifiedKFold(n_splits=5)\n",
        "for train_index, valid_index in skf.split(X, y):\n",
        "    print('---CV{i}---')\n",
        "    X_train, y_train = X.loc[train_index], y.loc[train_index]\n",
        "    X_valid, y_valid = X.loc[valid_index], y.loc[valid_index]\n",
        "    # モデルの学習\n",
        "    model, va_pred = fit(X_train, y_train, X_valid, y_valid) \n",
        "    # モデルの格納\n",
        "    models.append(model)\n",
        "    # 検証データの予測結果を格納\n",
        "    df_pred.loc[valid_index] = va_pred"
      ],
      "execution_count": 61,
      "outputs": [
        {
          "output_type": "stream",
          "name": "stdout",
          "text": [
            "---CV{i}---\n",
            "Training until validation scores don't improve for 100 rounds.\n",
            "[20]\ttrain's multi_logloss: 1.12308\tvalid's multi_logloss: 1.15106\n",
            "[40]\ttrain's multi_logloss: 1.08041\tvalid's multi_logloss: 1.12625\n",
            "[60]\ttrain's multi_logloss: 1.04883\tvalid's multi_logloss: 1.10962\n",
            "[80]\ttrain's multi_logloss: 1.02439\tvalid's multi_logloss: 1.09778\n",
            "[100]\ttrain's multi_logloss: 1.00489\tvalid's multi_logloss: 1.08844\n",
            "[120]\ttrain's multi_logloss: 0.989068\tvalid's multi_logloss: 1.07997\n",
            "[140]\ttrain's multi_logloss: 0.976052\tvalid's multi_logloss: 1.07269\n",
            "[160]\ttrain's multi_logloss: 0.965112\tvalid's multi_logloss: 1.06664\n",
            "[180]\ttrain's multi_logloss: 0.955847\tvalid's multi_logloss: 1.06188\n",
            "[200]\ttrain's multi_logloss: 0.947777\tvalid's multi_logloss: 1.05822\n",
            "[220]\ttrain's multi_logloss: 0.94072\tvalid's multi_logloss: 1.0545\n",
            "[240]\ttrain's multi_logloss: 0.934463\tvalid's multi_logloss: 1.05217\n",
            "[260]\ttrain's multi_logloss: 0.928825\tvalid's multi_logloss: 1.05045\n",
            "[280]\ttrain's multi_logloss: 0.923729\tvalid's multi_logloss: 1.04893\n",
            "[300]\ttrain's multi_logloss: 0.919191\tvalid's multi_logloss: 1.04743\n",
            "[320]\ttrain's multi_logloss: 0.915171\tvalid's multi_logloss: 1.04699\n",
            "[340]\ttrain's multi_logloss: 0.911612\tvalid's multi_logloss: 1.04631\n",
            "[360]\ttrain's multi_logloss: 0.908324\tvalid's multi_logloss: 1.04583\n",
            "[380]\ttrain's multi_logloss: 0.905277\tvalid's multi_logloss: 1.04532\n",
            "[400]\ttrain's multi_logloss: 0.902468\tvalid's multi_logloss: 1.04485\n",
            "[420]\ttrain's multi_logloss: 0.899799\tvalid's multi_logloss: 1.04435\n",
            "[440]\ttrain's multi_logloss: 0.897298\tvalid's multi_logloss: 1.04417\n",
            "[460]\ttrain's multi_logloss: 0.894888\tvalid's multi_logloss: 1.04425\n",
            "[480]\ttrain's multi_logloss: 0.892652\tvalid's multi_logloss: 1.04464\n",
            "[500]\ttrain's multi_logloss: 0.890509\tvalid's multi_logloss: 1.04505\n",
            "[520]\ttrain's multi_logloss: 0.888322\tvalid's multi_logloss: 1.04523\n",
            "Early stopping, best iteration is:\n",
            "[432]\ttrain's multi_logloss: 0.898297\tvalid's multi_logloss: 1.04416\n",
            "---CV{i}---\n",
            "Training until validation scores don't improve for 100 rounds.\n",
            "[20]\ttrain's multi_logloss: 1.12259\tvalid's multi_logloss: 1.14382\n",
            "[40]\ttrain's multi_logloss: 1.07943\tvalid's multi_logloss: 1.1149\n",
            "[60]\ttrain's multi_logloss: 1.04733\tvalid's multi_logloss: 1.09379\n",
            "[80]\ttrain's multi_logloss: 1.02234\tvalid's multi_logloss: 1.07769\n",
            "[100]\ttrain's multi_logloss: 1.00262\tvalid's multi_logloss: 1.06481\n",
            "[120]\ttrain's multi_logloss: 0.986691\tvalid's multi_logloss: 1.05487\n",
            "[140]\ttrain's multi_logloss: 0.973624\tvalid's multi_logloss: 1.04688\n",
            "[160]\ttrain's multi_logloss: 0.962508\tvalid's multi_logloss: 1.0403\n",
            "[180]\ttrain's multi_logloss: 0.953094\tvalid's multi_logloss: 1.03501\n",
            "[200]\ttrain's multi_logloss: 0.944976\tvalid's multi_logloss: 1.03091\n",
            "[220]\ttrain's multi_logloss: 0.937763\tvalid's multi_logloss: 1.02741\n",
            "[240]\ttrain's multi_logloss: 0.931624\tvalid's multi_logloss: 1.02448\n",
            "[260]\ttrain's multi_logloss: 0.926246\tvalid's multi_logloss: 1.02204\n",
            "[280]\ttrain's multi_logloss: 0.921495\tvalid's multi_logloss: 1.01977\n",
            "[300]\ttrain's multi_logloss: 0.917154\tvalid's multi_logloss: 1.01775\n",
            "[320]\ttrain's multi_logloss: 0.913255\tvalid's multi_logloss: 1.01618\n",
            "[340]\ttrain's multi_logloss: 0.909753\tvalid's multi_logloss: 1.01468\n",
            "[360]\ttrain's multi_logloss: 0.906587\tvalid's multi_logloss: 1.01334\n",
            "[380]\ttrain's multi_logloss: 0.903708\tvalid's multi_logloss: 1.01229\n",
            "[400]\ttrain's multi_logloss: 0.900966\tvalid's multi_logloss: 1.01135\n",
            "[420]\ttrain's multi_logloss: 0.89823\tvalid's multi_logloss: 1.01044\n",
            "[440]\ttrain's multi_logloss: 0.895666\tvalid's multi_logloss: 1.0096\n",
            "[460]\ttrain's multi_logloss: 0.893323\tvalid's multi_logloss: 1.00898\n",
            "[480]\ttrain's multi_logloss: 0.891085\tvalid's multi_logloss: 1.00844\n",
            "[500]\ttrain's multi_logloss: 0.888937\tvalid's multi_logloss: 1.00792\n",
            "[520]\ttrain's multi_logloss: 0.886762\tvalid's multi_logloss: 1.00764\n",
            "[540]\ttrain's multi_logloss: 0.88459\tvalid's multi_logloss: 1.00735\n",
            "[560]\ttrain's multi_logloss: 0.882664\tvalid's multi_logloss: 1.00708\n",
            "[580]\ttrain's multi_logloss: 0.880789\tvalid's multi_logloss: 1.00688\n",
            "[600]\ttrain's multi_logloss: 0.87894\tvalid's multi_logloss: 1.00688\n",
            "[620]\ttrain's multi_logloss: 0.877086\tvalid's multi_logloss: 1.0069\n",
            "[640]\ttrain's multi_logloss: 0.875453\tvalid's multi_logloss: 1.00692\n",
            "[660]\ttrain's multi_logloss: 0.873891\tvalid's multi_logloss: 1.00704\n",
            "[680]\ttrain's multi_logloss: 0.8724\tvalid's multi_logloss: 1.00706\n",
            "Early stopping, best iteration is:\n",
            "[593]\ttrain's multi_logloss: 0.879623\tvalid's multi_logloss: 1.00684\n",
            "---CV{i}---\n",
            "Training until validation scores don't improve for 100 rounds.\n",
            "[20]\ttrain's multi_logloss: 1.12635\tvalid's multi_logloss: 1.14403\n",
            "[40]\ttrain's multi_logloss: 1.08518\tvalid's multi_logloss: 1.11659\n",
            "[60]\ttrain's multi_logloss: 1.05433\tvalid's multi_logloss: 1.09468\n",
            "[80]\ttrain's multi_logloss: 1.03039\tvalid's multi_logloss: 1.07843\n",
            "[100]\ttrain's multi_logloss: 1.01133\tvalid's multi_logloss: 1.06587\n",
            "[120]\ttrain's multi_logloss: 0.995843\tvalid's multi_logloss: 1.05557\n",
            "[140]\ttrain's multi_logloss: 0.982957\tvalid's multi_logloss: 1.04714\n",
            "[160]\ttrain's multi_logloss: 0.971895\tvalid's multi_logloss: 1.04194\n",
            "[180]\ttrain's multi_logloss: 0.962658\tvalid's multi_logloss: 1.03645\n",
            "[200]\ttrain's multi_logloss: 0.954739\tvalid's multi_logloss: 1.03188\n",
            "[220]\ttrain's multi_logloss: 0.947869\tvalid's multi_logloss: 1.02773\n",
            "[240]\ttrain's multi_logloss: 0.941963\tvalid's multi_logloss: 1.02442\n",
            "[260]\ttrain's multi_logloss: 0.936726\tvalid's multi_logloss: 1.0217\n",
            "[280]\ttrain's multi_logloss: 0.932024\tvalid's multi_logloss: 1.0194\n",
            "[300]\ttrain's multi_logloss: 0.927835\tvalid's multi_logloss: 1.01761\n",
            "[320]\ttrain's multi_logloss: 0.923992\tvalid's multi_logloss: 1.016\n",
            "[340]\ttrain's multi_logloss: 0.920381\tvalid's multi_logloss: 1.01434\n",
            "[360]\ttrain's multi_logloss: 0.917223\tvalid's multi_logloss: 1.01273\n",
            "[380]\ttrain's multi_logloss: 0.914384\tvalid's multi_logloss: 1.01163\n",
            "[400]\ttrain's multi_logloss: 0.911677\tvalid's multi_logloss: 1.01078\n",
            "[420]\ttrain's multi_logloss: 0.909225\tvalid's multi_logloss: 1.00984\n",
            "[440]\ttrain's multi_logloss: 0.906741\tvalid's multi_logloss: 1.00904\n",
            "[460]\ttrain's multi_logloss: 0.904345\tvalid's multi_logloss: 1.00818\n",
            "[480]\ttrain's multi_logloss: 0.902119\tvalid's multi_logloss: 1.00782\n",
            "[500]\ttrain's multi_logloss: 0.899964\tvalid's multi_logloss: 1.00761\n",
            "[520]\ttrain's multi_logloss: 0.897941\tvalid's multi_logloss: 1.00756\n",
            "[540]\ttrain's multi_logloss: 0.896062\tvalid's multi_logloss: 1.00745\n",
            "[560]\ttrain's multi_logloss: 0.894061\tvalid's multi_logloss: 1.00731\n",
            "[580]\ttrain's multi_logloss: 0.892146\tvalid's multi_logloss: 1.00715\n",
            "[600]\ttrain's multi_logloss: 0.890375\tvalid's multi_logloss: 1.00715\n",
            "[620]\ttrain's multi_logloss: 0.888644\tvalid's multi_logloss: 1.00655\n",
            "[640]\ttrain's multi_logloss: 0.8869\tvalid's multi_logloss: 1.0062\n",
            "[660]\ttrain's multi_logloss: 0.885164\tvalid's multi_logloss: 1.00602\n",
            "[680]\ttrain's multi_logloss: 0.883654\tvalid's multi_logloss: 1.00573\n",
            "[700]\ttrain's multi_logloss: 0.882223\tvalid's multi_logloss: 1.00525\n",
            "[720]\ttrain's multi_logloss: 0.880686\tvalid's multi_logloss: 1.00514\n",
            "[740]\ttrain's multi_logloss: 0.879273\tvalid's multi_logloss: 1.00486\n",
            "[760]\ttrain's multi_logloss: 0.877868\tvalid's multi_logloss: 1.0046\n",
            "[780]\ttrain's multi_logloss: 0.876459\tvalid's multi_logloss: 1.00463\n",
            "[800]\ttrain's multi_logloss: 0.875078\tvalid's multi_logloss: 1.00457\n",
            "[820]\ttrain's multi_logloss: 0.873752\tvalid's multi_logloss: 1.00443\n",
            "[840]\ttrain's multi_logloss: 0.872489\tvalid's multi_logloss: 1.00424\n",
            "[860]\ttrain's multi_logloss: 0.871308\tvalid's multi_logloss: 1.00421\n",
            "[880]\ttrain's multi_logloss: 0.870167\tvalid's multi_logloss: 1.00403\n",
            "[900]\ttrain's multi_logloss: 0.868979\tvalid's multi_logloss: 1.0038\n",
            "[920]\ttrain's multi_logloss: 0.867818\tvalid's multi_logloss: 1.0037\n",
            "[940]\ttrain's multi_logloss: 0.866661\tvalid's multi_logloss: 1.0036\n",
            "[960]\ttrain's multi_logloss: 0.865495\tvalid's multi_logloss: 1.00365\n",
            "[980]\ttrain's multi_logloss: 0.864413\tvalid's multi_logloss: 1.00361\n",
            "[1000]\ttrain's multi_logloss: 0.863364\tvalid's multi_logloss: 1.00363\n",
            "Did not meet early stopping. Best iteration is:\n",
            "[1000]\ttrain's multi_logloss: 0.863364\tvalid's multi_logloss: 1.00363\n",
            "---CV{i}---\n",
            "Training until validation scores don't improve for 100 rounds.\n",
            "[20]\ttrain's multi_logloss: 1.12553\tvalid's multi_logloss: 1.12912\n",
            "[40]\ttrain's multi_logloss: 1.08398\tvalid's multi_logloss: 1.09093\n",
            "[60]\ttrain's multi_logloss: 1.05266\tvalid's multi_logloss: 1.06261\n",
            "[80]\ttrain's multi_logloss: 1.02844\tvalid's multi_logloss: 1.04186\n",
            "[100]\ttrain's multi_logloss: 1.00922\tvalid's multi_logloss: 1.02642\n",
            "[120]\ttrain's multi_logloss: 0.993551\tvalid's multi_logloss: 1.01408\n",
            "[140]\ttrain's multi_logloss: 0.980661\tvalid's multi_logloss: 1.00462\n",
            "[160]\ttrain's multi_logloss: 0.970049\tvalid's multi_logloss: 0.997251\n",
            "[180]\ttrain's multi_logloss: 0.960791\tvalid's multi_logloss: 0.990754\n",
            "[200]\ttrain's multi_logloss: 0.952833\tvalid's multi_logloss: 0.985232\n",
            "[220]\ttrain's multi_logloss: 0.946085\tvalid's multi_logloss: 0.981138\n",
            "[240]\ttrain's multi_logloss: 0.940253\tvalid's multi_logloss: 0.978057\n",
            "[260]\ttrain's multi_logloss: 0.935174\tvalid's multi_logloss: 0.97553\n",
            "[280]\ttrain's multi_logloss: 0.930735\tvalid's multi_logloss: 0.973423\n",
            "[300]\ttrain's multi_logloss: 0.926767\tvalid's multi_logloss: 0.971562\n",
            "[320]\ttrain's multi_logloss: 0.923202\tvalid's multi_logloss: 0.970291\n",
            "[340]\ttrain's multi_logloss: 0.919831\tvalid's multi_logloss: 0.968918\n",
            "[360]\ttrain's multi_logloss: 0.916683\tvalid's multi_logloss: 0.967486\n",
            "[380]\ttrain's multi_logloss: 0.913797\tvalid's multi_logloss: 0.966295\n",
            "[400]\ttrain's multi_logloss: 0.911112\tvalid's multi_logloss: 0.965334\n",
            "[420]\ttrain's multi_logloss: 0.90861\tvalid's multi_logloss: 0.964442\n",
            "[440]\ttrain's multi_logloss: 0.906293\tvalid's multi_logloss: 0.963942\n",
            "[460]\ttrain's multi_logloss: 0.904138\tvalid's multi_logloss: 0.963626\n",
            "[480]\ttrain's multi_logloss: 0.901981\tvalid's multi_logloss: 0.963361\n",
            "[500]\ttrain's multi_logloss: 0.89998\tvalid's multi_logloss: 0.963516\n",
            "[520]\ttrain's multi_logloss: 0.897989\tvalid's multi_logloss: 0.963523\n",
            "[540]\ttrain's multi_logloss: 0.896005\tvalid's multi_logloss: 0.963244\n",
            "[560]\ttrain's multi_logloss: 0.894154\tvalid's multi_logloss: 0.963015\n",
            "[580]\ttrain's multi_logloss: 0.892424\tvalid's multi_logloss: 0.962775\n",
            "[600]\ttrain's multi_logloss: 0.890675\tvalid's multi_logloss: 0.962634\n",
            "[620]\ttrain's multi_logloss: 0.888974\tvalid's multi_logloss: 0.96255\n",
            "[640]\ttrain's multi_logloss: 0.887431\tvalid's multi_logloss: 0.962404\n",
            "[660]\ttrain's multi_logloss: 0.885895\tvalid's multi_logloss: 0.962409\n",
            "[680]\ttrain's multi_logloss: 0.884451\tvalid's multi_logloss: 0.962481\n",
            "[700]\ttrain's multi_logloss: 0.883034\tvalid's multi_logloss: 0.962494\n",
            "[720]\ttrain's multi_logloss: 0.881699\tvalid's multi_logloss: 0.96242\n",
            "[740]\ttrain's multi_logloss: 0.880349\tvalid's multi_logloss: 0.962396\n",
            "[760]\ttrain's multi_logloss: 0.878939\tvalid's multi_logloss: 0.962158\n",
            "[780]\ttrain's multi_logloss: 0.877561\tvalid's multi_logloss: 0.961916\n",
            "[800]\ttrain's multi_logloss: 0.876301\tvalid's multi_logloss: 0.961794\n",
            "[820]\ttrain's multi_logloss: 0.874975\tvalid's multi_logloss: 0.961623\n",
            "[840]\ttrain's multi_logloss: 0.873644\tvalid's multi_logloss: 0.961453\n",
            "[860]\ttrain's multi_logloss: 0.87236\tvalid's multi_logloss: 0.961246\n",
            "[880]\ttrain's multi_logloss: 0.871153\tvalid's multi_logloss: 0.961205\n",
            "[900]\ttrain's multi_logloss: 0.869949\tvalid's multi_logloss: 0.961163\n",
            "[920]\ttrain's multi_logloss: 0.868742\tvalid's multi_logloss: 0.961021\n",
            "[940]\ttrain's multi_logloss: 0.867614\tvalid's multi_logloss: 0.961102\n",
            "[960]\ttrain's multi_logloss: 0.866501\tvalid's multi_logloss: 0.961176\n",
            "[980]\ttrain's multi_logloss: 0.865368\tvalid's multi_logloss: 0.961231\n",
            "[1000]\ttrain's multi_logloss: 0.864244\tvalid's multi_logloss: 0.9613\n",
            "Did not meet early stopping. Best iteration is:\n",
            "[1000]\ttrain's multi_logloss: 0.864244\tvalid's multi_logloss: 0.9613\n",
            "---CV{i}---\n",
            "Training until validation scores don't improve for 100 rounds.\n",
            "[20]\ttrain's multi_logloss: 1.12542\tvalid's multi_logloss: 1.12601\n",
            "[40]\ttrain's multi_logloss: 1.0839\tvalid's multi_logloss: 1.08725\n",
            "[60]\ttrain's multi_logloss: 1.05315\tvalid's multi_logloss: 1.05998\n",
            "[80]\ttrain's multi_logloss: 1.02936\tvalid's multi_logloss: 1.04041\n",
            "[100]\ttrain's multi_logloss: 1.01047\tvalid's multi_logloss: 1.02628\n",
            "[120]\ttrain's multi_logloss: 0.995041\tvalid's multi_logloss: 1.01579\n",
            "[140]\ttrain's multi_logloss: 0.982452\tvalid's multi_logloss: 1.00743\n",
            "[160]\ttrain's multi_logloss: 0.971965\tvalid's multi_logloss: 1.00058\n",
            "[180]\ttrain's multi_logloss: 0.963197\tvalid's multi_logloss: 0.994884\n",
            "[200]\ttrain's multi_logloss: 0.955592\tvalid's multi_logloss: 0.990738\n",
            "[220]\ttrain's multi_logloss: 0.949028\tvalid's multi_logloss: 0.98796\n",
            "[240]\ttrain's multi_logloss: 0.943287\tvalid's multi_logloss: 0.98558\n",
            "[260]\ttrain's multi_logloss: 0.938268\tvalid's multi_logloss: 0.983632\n",
            "[280]\ttrain's multi_logloss: 0.933802\tvalid's multi_logloss: 0.982509\n",
            "[300]\ttrain's multi_logloss: 0.929679\tvalid's multi_logloss: 0.981252\n",
            "[320]\ttrain's multi_logloss: 0.925865\tvalid's multi_logloss: 0.979789\n",
            "[340]\ttrain's multi_logloss: 0.922385\tvalid's multi_logloss: 0.978549\n",
            "[360]\ttrain's multi_logloss: 0.919168\tvalid's multi_logloss: 0.977334\n",
            "[380]\ttrain's multi_logloss: 0.916278\tvalid's multi_logloss: 0.97641\n",
            "[400]\ttrain's multi_logloss: 0.913668\tvalid's multi_logloss: 0.975682\n",
            "[420]\ttrain's multi_logloss: 0.911262\tvalid's multi_logloss: 0.975041\n",
            "[440]\ttrain's multi_logloss: 0.908901\tvalid's multi_logloss: 0.974401\n",
            "[460]\ttrain's multi_logloss: 0.906661\tvalid's multi_logloss: 0.973681\n",
            "[480]\ttrain's multi_logloss: 0.904539\tvalid's multi_logloss: 0.973277\n",
            "[500]\ttrain's multi_logloss: 0.902578\tvalid's multi_logloss: 0.97305\n",
            "[520]\ttrain's multi_logloss: 0.900678\tvalid's multi_logloss: 0.97297\n",
            "[540]\ttrain's multi_logloss: 0.898776\tvalid's multi_logloss: 0.972941\n",
            "[560]\ttrain's multi_logloss: 0.896923\tvalid's multi_logloss: 0.973127\n",
            "[580]\ttrain's multi_logloss: 0.8951\tvalid's multi_logloss: 0.97329\n",
            "[600]\ttrain's multi_logloss: 0.893409\tvalid's multi_logloss: 0.973646\n",
            "[620]\ttrain's multi_logloss: 0.891828\tvalid's multi_logloss: 0.973992\n",
            "Early stopping, best iteration is:\n",
            "[533]\ttrain's multi_logloss: 0.899467\tvalid's multi_logloss: 0.972909\n"
          ]
        }
      ]
    },
    {
      "cell_type": "code",
      "metadata": {
        "colab": {
          "base_uri": "https://localhost:8080/"
        },
        "collapsed": true,
        "id": "kduT2grhP4DR",
        "outputId": "4c05e258-08c5-460e-fc85-6215f57036b6"
      },
      "source": [
        "models"
      ],
      "execution_count": 24,
      "outputs": [
        {
          "output_type": "execute_result",
          "data": {
            "text/plain": [
              "[<lightgbm.basic.Booster at 0x7f6a3389ef50>,\n",
              " <lightgbm.basic.Booster at 0x7f6a33894450>,\n",
              " <lightgbm.basic.Booster at 0x7f6a3388d750>,\n",
              " <lightgbm.basic.Booster at 0x7f6a337f3150>,\n",
              " <lightgbm.basic.Booster at 0x7f6a33848510>]"
            ]
          },
          "metadata": {},
          "execution_count": 24
        }
      ]
    },
    {
      "cell_type": "code",
      "metadata": {
        "id": "FVOdGaXFQOvf"
      },
      "source": [
        "# モデルの保存\n",
        "import pickle\n",
        "\n",
        "# カレントディレクトリへモデルを保存\n",
        "file = 'trained_model.pkl'\n",
        "pickle.dump(models, open(file, 'wb'))"
      ],
      "execution_count": 25,
      "outputs": []
    },
    {
      "cell_type": "code",
      "metadata": {
        "id": "0OqjaOtHQhRa"
      },
      "source": [
        "# モデルの削除\n",
        "del models"
      ],
      "execution_count": 29,
      "outputs": []
    },
    {
      "cell_type": "code",
      "metadata": {
        "id": "N-pMC5FCQXwh"
      },
      "source": [
        "models = pickle.load(open('trained_model.pkl', 'rb'))"
      ],
      "execution_count": 32,
      "outputs": []
    },
    {
      "cell_type": "code",
      "metadata": {
        "colab": {
          "base_uri": "https://localhost:8080/",
          "height": 419
        },
        "id": "2jCGgBemSXJu",
        "outputId": "f12c5529-f0ba-4a1c-d829-6b2aeb5ad6aa"
      },
      "source": [
        "df_pred"
      ],
      "execution_count": 76,
      "outputs": [
        {
          "output_type": "execute_result",
          "data": {
            "text/html": [
              "<div>\n",
              "<style scoped>\n",
              "    .dataframe tbody tr th:only-of-type {\n",
              "        vertical-align: middle;\n",
              "    }\n",
              "\n",
              "    .dataframe tbody tr th {\n",
              "        vertical-align: top;\n",
              "    }\n",
              "\n",
              "    .dataframe thead th {\n",
              "        text-align: right;\n",
              "    }\n",
              "</style>\n",
              "<table border=\"1\" class=\"dataframe\">\n",
              "  <thead>\n",
              "    <tr style=\"text-align: right;\">\n",
              "      <th></th>\n",
              "      <th>proba_0</th>\n",
              "      <th>proba_1</th>\n",
              "      <th>proba_2</th>\n",
              "      <th>proba_3</th>\n",
              "      <th>proba_4</th>\n",
              "    </tr>\n",
              "  </thead>\n",
              "  <tbody>\n",
              "    <tr>\n",
              "      <th>0</th>\n",
              "      <td>0.157765</td>\n",
              "      <td>0.515251</td>\n",
              "      <td>0.265732</td>\n",
              "      <td>0.0546795</td>\n",
              "      <td>0.00657274</td>\n",
              "    </tr>\n",
              "    <tr>\n",
              "      <th>1</th>\n",
              "      <td>0.152585</td>\n",
              "      <td>0.494949</td>\n",
              "      <td>0.270058</td>\n",
              "      <td>0.0535997</td>\n",
              "      <td>0.0288087</td>\n",
              "    </tr>\n",
              "    <tr>\n",
              "      <th>2</th>\n",
              "      <td>0.224038</td>\n",
              "      <td>0.574108</td>\n",
              "      <td>0.168089</td>\n",
              "      <td>0.0254512</td>\n",
              "      <td>0.00831288</td>\n",
              "    </tr>\n",
              "    <tr>\n",
              "      <th>3</th>\n",
              "      <td>0.157765</td>\n",
              "      <td>0.515251</td>\n",
              "      <td>0.265732</td>\n",
              "      <td>0.0546795</td>\n",
              "      <td>0.00657274</td>\n",
              "    </tr>\n",
              "    <tr>\n",
              "      <th>4</th>\n",
              "      <td>0.152585</td>\n",
              "      <td>0.494949</td>\n",
              "      <td>0.270058</td>\n",
              "      <td>0.0535997</td>\n",
              "      <td>0.0288087</td>\n",
              "    </tr>\n",
              "    <tr>\n",
              "      <th>...</th>\n",
              "      <td>...</td>\n",
              "      <td>...</td>\n",
              "      <td>...</td>\n",
              "      <td>...</td>\n",
              "      <td>...</td>\n",
              "    </tr>\n",
              "    <tr>\n",
              "      <th>39995</th>\n",
              "      <td>0.266637</td>\n",
              "      <td>0.621892</td>\n",
              "      <td>0.105949</td>\n",
              "      <td>0.00412839</td>\n",
              "      <td>0.00139314</td>\n",
              "    </tr>\n",
              "    <tr>\n",
              "      <th>39996</th>\n",
              "      <td>0.655469</td>\n",
              "      <td>0.278504</td>\n",
              "      <td>0.0373653</td>\n",
              "      <td>0.0271555</td>\n",
              "      <td>0.00150627</td>\n",
              "    </tr>\n",
              "    <tr>\n",
              "      <th>39997</th>\n",
              "      <td>0.853185</td>\n",
              "      <td>0.101173</td>\n",
              "      <td>0.0388245</td>\n",
              "      <td>0.00601974</td>\n",
              "      <td>0.000798019</td>\n",
              "    </tr>\n",
              "    <tr>\n",
              "      <th>39998</th>\n",
              "      <td>0.456266</td>\n",
              "      <td>0.398277</td>\n",
              "      <td>0.115129</td>\n",
              "      <td>0.0286983</td>\n",
              "      <td>0.00163058</td>\n",
              "    </tr>\n",
              "    <tr>\n",
              "      <th>39999</th>\n",
              "      <td>0.775705</td>\n",
              "      <td>0.188604</td>\n",
              "      <td>0.0289289</td>\n",
              "      <td>0.00537808</td>\n",
              "      <td>0.00138386</td>\n",
              "    </tr>\n",
              "  </tbody>\n",
              "</table>\n",
              "<p>40000 rows × 5 columns</p>\n",
              "</div>"
            ],
            "text/plain": [
              "        proba_0   proba_1    proba_2     proba_3      proba_4\n",
              "0      0.157765  0.515251   0.265732   0.0546795   0.00657274\n",
              "1      0.152585  0.494949   0.270058   0.0535997    0.0288087\n",
              "2      0.224038  0.574108   0.168089   0.0254512   0.00831288\n",
              "3      0.157765  0.515251   0.265732   0.0546795   0.00657274\n",
              "4      0.152585  0.494949   0.270058   0.0535997    0.0288087\n",
              "...         ...       ...        ...         ...          ...\n",
              "39995  0.266637  0.621892   0.105949  0.00412839   0.00139314\n",
              "39996  0.655469  0.278504  0.0373653   0.0271555   0.00150627\n",
              "39997  0.853185  0.101173  0.0388245  0.00601974  0.000798019\n",
              "39998  0.456266  0.398277   0.115129   0.0286983   0.00163058\n",
              "39999  0.775705  0.188604  0.0289289  0.00537808   0.00138386\n",
              "\n",
              "[40000 rows x 5 columns]"
            ]
          },
          "metadata": {},
          "execution_count": 76
        }
      ]
    },
    {
      "cell_type": "code",
      "metadata": {
        "id": "bM1LKgIPZ3fr",
        "colab": {
          "base_uri": "https://localhost:8080/"
        },
        "outputId": "2da26308-d8a2-466e-c17d-6f776f190fd5"
      },
      "source": [
        "# CVスコア\n",
        "scoring(df_train['fav_novel_cnt_bin'], df_pred)"
      ],
      "execution_count": 77,
      "outputs": [
        {
          "output_type": "execute_result",
          "data": {
            "text/plain": [
              "1.008591803966645"
            ]
          },
          "metadata": {},
          "execution_count": 77
        }
      ]
    },
    {
      "cell_type": "markdown",
      "metadata": {
        "id": "fZSYd9d8Z3fr"
      },
      "source": [
        "## Prediction"
      ]
    },
    {
      "cell_type": "code",
      "metadata": {
        "id": "AjZ8avBCZ3fr"
      },
      "source": [
        "def predict(models, x):\n",
        "    \"\"\"\n",
        "    prediction\n",
        "  \n",
        "    Parameters\n",
        "    ----------\n",
        "    models: list\n",
        "        - trained model\n",
        "    x: pd.DataFrame\n",
        "\n",
        "    Returns\n",
        "    ----------\n",
        "    result: pd.DataFrame\n",
        "    \"\"\" \n",
        "    result = pd.DataFrame(0, index=x.index, columns=['proba_0',\t'proba_1', 'proba_2', 'proba_3', 'proba_4'])\n",
        "    for model in models:\n",
        "        pred_prob = model.predict(x, num_iteration=model.best_iteration)\n",
        "        lgb.plot_importance(model, figsize=(12,8), max_num_features=50, importance_type='gain')\n",
        "        plt.tight_layout()\n",
        "        plt.show()\n",
        "        df_pred = pd.DataFrame(pred_prob, index=x.index, columns=['proba_0', 'proba_1', 'proba_2', 'proba_3', 'proba_4'])\n",
        "        result += df_pred\n",
        "    result = result / 5\n",
        "    return result"
      ],
      "execution_count": 64,
      "outputs": []
    },
    {
      "cell_type": "code",
      "metadata": {
        "id": "5mR7CvxNQ8TK",
        "colab": {
          "base_uri": "https://localhost:8080/",
          "height": 419
        },
        "outputId": "020f093a-b0a1-4a13-f054-5e725f26d031"
      },
      "source": [
        "df_test_numeric"
      ],
      "execution_count": 65,
      "outputs": [
        {
          "output_type": "execute_result",
          "data": {
            "text/html": [
              "<div>\n",
              "<style scoped>\n",
              "    .dataframe tbody tr th:only-of-type {\n",
              "        vertical-align: middle;\n",
              "    }\n",
              "\n",
              "    .dataframe tbody tr th {\n",
              "        vertical-align: top;\n",
              "    }\n",
              "\n",
              "    .dataframe thead th {\n",
              "        text-align: right;\n",
              "    }\n",
              "</style>\n",
              "<table border=\"1\" class=\"dataframe\">\n",
              "  <thead>\n",
              "    <tr style=\"text-align: right;\">\n",
              "      <th></th>\n",
              "      <th>userid</th>\n",
              "      <th>biggenre</th>\n",
              "      <th>genre</th>\n",
              "      <th>novel_type</th>\n",
              "      <th>isr15</th>\n",
              "    </tr>\n",
              "  </thead>\n",
              "  <tbody>\n",
              "    <tr>\n",
              "      <th>0</th>\n",
              "      <td>952106</td>\n",
              "      <td>99</td>\n",
              "      <td>9903</td>\n",
              "      <td>2</td>\n",
              "      <td>0</td>\n",
              "    </tr>\n",
              "    <tr>\n",
              "      <th>1</th>\n",
              "      <td>2197141</td>\n",
              "      <td>1</td>\n",
              "      <td>101</td>\n",
              "      <td>2</td>\n",
              "      <td>1</td>\n",
              "    </tr>\n",
              "    <tr>\n",
              "      <th>2</th>\n",
              "      <td>2235083</td>\n",
              "      <td>3</td>\n",
              "      <td>302</td>\n",
              "      <td>2</td>\n",
              "      <td>0</td>\n",
              "    </tr>\n",
              "    <tr>\n",
              "      <th>3</th>\n",
              "      <td>2236089</td>\n",
              "      <td>1</td>\n",
              "      <td>101</td>\n",
              "      <td>1</td>\n",
              "      <td>0</td>\n",
              "    </tr>\n",
              "    <tr>\n",
              "      <th>4</th>\n",
              "      <td>414104</td>\n",
              "      <td>99</td>\n",
              "      <td>9902</td>\n",
              "      <td>2</td>\n",
              "      <td>0</td>\n",
              "    </tr>\n",
              "    <tr>\n",
              "      <th>...</th>\n",
              "      <td>...</td>\n",
              "      <td>...</td>\n",
              "      <td>...</td>\n",
              "      <td>...</td>\n",
              "      <td>...</td>\n",
              "    </tr>\n",
              "    <tr>\n",
              "      <th>8517</th>\n",
              "      <td>2263100</td>\n",
              "      <td>99</td>\n",
              "      <td>9903</td>\n",
              "      <td>2</td>\n",
              "      <td>0</td>\n",
              "    </tr>\n",
              "    <tr>\n",
              "      <th>8518</th>\n",
              "      <td>2254651</td>\n",
              "      <td>3</td>\n",
              "      <td>305</td>\n",
              "      <td>2</td>\n",
              "      <td>0</td>\n",
              "    </tr>\n",
              "    <tr>\n",
              "      <th>8519</th>\n",
              "      <td>846989</td>\n",
              "      <td>3</td>\n",
              "      <td>302</td>\n",
              "      <td>2</td>\n",
              "      <td>0</td>\n",
              "    </tr>\n",
              "    <tr>\n",
              "      <th>8520</th>\n",
              "      <td>2259847</td>\n",
              "      <td>2</td>\n",
              "      <td>202</td>\n",
              "      <td>2</td>\n",
              "      <td>0</td>\n",
              "    </tr>\n",
              "    <tr>\n",
              "      <th>8521</th>\n",
              "      <td>816980</td>\n",
              "      <td>99</td>\n",
              "      <td>9903</td>\n",
              "      <td>2</td>\n",
              "      <td>0</td>\n",
              "    </tr>\n",
              "  </tbody>\n",
              "</table>\n",
              "<p>8522 rows × 5 columns</p>\n",
              "</div>"
            ],
            "text/plain": [
              "       userid  biggenre  genre  novel_type  isr15\n",
              "0      952106        99   9903           2      0\n",
              "1     2197141         1    101           2      1\n",
              "2     2235083         3    302           2      0\n",
              "3     2236089         1    101           1      0\n",
              "4      414104        99   9902           2      0\n",
              "...       ...       ...    ...         ...    ...\n",
              "8517  2263100        99   9903           2      0\n",
              "8518  2254651         3    305           2      0\n",
              "8519   846989         3    302           2      0\n",
              "8520  2259847         2    202           2      0\n",
              "8521   816980        99   9903           2      0\n",
              "\n",
              "[8522 rows x 5 columns]"
            ]
          },
          "metadata": {},
          "execution_count": 65
        }
      ]
    },
    {
      "cell_type": "code",
      "metadata": {
        "colab": {
          "base_uri": "https://localhost:8080/",
          "height": 1000
        },
        "id": "XRohoVTSRBqi",
        "outputId": "922c4976-99b6-438b-881d-85b307f5c99c"
      },
      "source": [
        "result = predict(models, df_test_numeric)\n",
        "result"
      ],
      "execution_count": 66,
      "outputs": [
        {
          "output_type": "display_data",
          "data": {
            "image/png": "[encoded data removed]",
            "text/plain": [
              "<Figure size 864x576 with 1 Axes>"
            ]
          },
          "metadata": {
            "needs_background": "light"
          }
        },
        {
          "output_type": "display_data",
          "data": {
            "image/png": "[encoded data removed]",
            "text/plain": [
              "<Figure size 864x576 with 1 Axes>"
            ]
          },
          "metadata": {
            "needs_background": "light"
          }
        },
        {
          "output_type": "display_data",
          "data": {
            "image/png": "[encoded data removed]",
            "text/plain": [
              "<Figure size 864x576 with 1 Axes>"
            ]
          },
          "metadata": {
            "needs_background": "light"
          }
        },
        {
          "output_type": "display_data",
          "data": {
            "image/png": "[encoded data removed]",
            "text/plain": [
              "<Figure size 864x576 with 1 Axes>"
            ]
          },
          "metadata": {
            "needs_background": "light"
          }
        },
        {
          "output_type": "display_data",
          "data": {
            "image/png": "[encoded data removed]",
            "text/plain": [
              "<Figure size 864x576 with 1 Axes>"
            ]
          },
          "metadata": {
            "needs_background": "light"
          }
        },
        {
          "output_type": "execute_result",
          "data": {
            "text/html": [
              "<div>\n",
              "<style scoped>\n",
              "    .dataframe tbody tr th:only-of-type {\n",
              "        vertical-align: middle;\n",
              "    }\n",
              "\n",
              "    .dataframe tbody tr th {\n",
              "        vertical-align: top;\n",
              "    }\n",
              "\n",
              "    .dataframe thead th {\n",
              "        text-align: right;\n",
              "    }\n",
              "</style>\n",
              "<table border=\"1\" class=\"dataframe\">\n",
              "  <thead>\n",
              "    <tr style=\"text-align: right;\">\n",
              "      <th></th>\n",
              "      <th>proba_0</th>\n",
              "      <th>proba_1</th>\n",
              "      <th>proba_2</th>\n",
              "      <th>proba_3</th>\n",
              "      <th>proba_4</th>\n",
              "    </tr>\n",
              "  </thead>\n",
              "  <tbody>\n",
              "    <tr>\n",
              "      <th>0</th>\n",
              "      <td>0.573773</td>\n",
              "      <td>0.387180</td>\n",
              "      <td>0.033470</td>\n",
              "      <td>0.004493</td>\n",
              "      <td>0.001084</td>\n",
              "    </tr>\n",
              "    <tr>\n",
              "      <th>1</th>\n",
              "      <td>0.081089</td>\n",
              "      <td>0.223091</td>\n",
              "      <td>0.490011</td>\n",
              "      <td>0.194176</td>\n",
              "      <td>0.011633</td>\n",
              "    </tr>\n",
              "    <tr>\n",
              "      <th>2</th>\n",
              "      <td>0.840744</td>\n",
              "      <td>0.147844</td>\n",
              "      <td>0.007345</td>\n",
              "      <td>0.003292</td>\n",
              "      <td>0.000775</td>\n",
              "    </tr>\n",
              "    <tr>\n",
              "      <th>3</th>\n",
              "      <td>0.160062</td>\n",
              "      <td>0.281207</td>\n",
              "      <td>0.156332</td>\n",
              "      <td>0.346855</td>\n",
              "      <td>0.055544</td>\n",
              "    </tr>\n",
              "    <tr>\n",
              "      <th>4</th>\n",
              "      <td>0.567211</td>\n",
              "      <td>0.387362</td>\n",
              "      <td>0.039176</td>\n",
              "      <td>0.005103</td>\n",
              "      <td>0.001148</td>\n",
              "    </tr>\n",
              "    <tr>\n",
              "      <th>...</th>\n",
              "      <td>...</td>\n",
              "      <td>...</td>\n",
              "      <td>...</td>\n",
              "      <td>...</td>\n",
              "      <td>...</td>\n",
              "    </tr>\n",
              "    <tr>\n",
              "      <th>8517</th>\n",
              "      <td>0.843147</td>\n",
              "      <td>0.147081</td>\n",
              "      <td>0.006743</td>\n",
              "      <td>0.002257</td>\n",
              "      <td>0.000772</td>\n",
              "    </tr>\n",
              "    <tr>\n",
              "      <th>8518</th>\n",
              "      <td>0.769953</td>\n",
              "      <td>0.219764</td>\n",
              "      <td>0.006562</td>\n",
              "      <td>0.002999</td>\n",
              "      <td>0.000723</td>\n",
              "    </tr>\n",
              "    <tr>\n",
              "      <th>8519</th>\n",
              "      <td>0.687330</td>\n",
              "      <td>0.262277</td>\n",
              "      <td>0.040561</td>\n",
              "      <td>0.008605</td>\n",
              "      <td>0.001228</td>\n",
              "    </tr>\n",
              "    <tr>\n",
              "      <th>8520</th>\n",
              "      <td>0.827999</td>\n",
              "      <td>0.159447</td>\n",
              "      <td>0.008606</td>\n",
              "      <td>0.003191</td>\n",
              "      <td>0.000757</td>\n",
              "    </tr>\n",
              "    <tr>\n",
              "      <th>8521</th>\n",
              "      <td>0.520563</td>\n",
              "      <td>0.442951</td>\n",
              "      <td>0.031781</td>\n",
              "      <td>0.003763</td>\n",
              "      <td>0.000942</td>\n",
              "    </tr>\n",
              "  </tbody>\n",
              "</table>\n",
              "<p>8522 rows × 5 columns</p>\n",
              "</div>"
            ],
            "text/plain": [
              "       proba_0   proba_1   proba_2   proba_3   proba_4\n",
              "0     0.573773  0.387180  0.033470  0.004493  0.001084\n",
              "1     0.081089  0.223091  0.490011  0.194176  0.011633\n",
              "2     0.840744  0.147844  0.007345  0.003292  0.000775\n",
              "3     0.160062  0.281207  0.156332  0.346855  0.055544\n",
              "4     0.567211  0.387362  0.039176  0.005103  0.001148\n",
              "...        ...       ...       ...       ...       ...\n",
              "8517  0.843147  0.147081  0.006743  0.002257  0.000772\n",
              "8518  0.769953  0.219764  0.006562  0.002999  0.000723\n",
              "8519  0.687330  0.262277  0.040561  0.008605  0.001228\n",
              "8520  0.827999  0.159447  0.008606  0.003191  0.000757\n",
              "8521  0.520563  0.442951  0.031781  0.003763  0.000942\n",
              "\n",
              "[8522 rows x 5 columns]"
            ]
          },
          "metadata": {},
          "execution_count": 66
        }
      ]
    },
    {
      "cell_type": "markdown",
      "metadata": {
        "id": "30f8SFD_Z3fs"
      },
      "source": [
        "## Create Submission File"
      ]
    },
    {
      "cell_type": "code",
      "metadata": {
        "id": "RdAtMhV_Z3fs"
      },
      "source": [
        "output_fpath = Path('./')\n",
        "submission.iloc[:, 1:] = result\n",
        "submission.to_csv(output_fpath / 'submission.csv', header=True, index=None)"
      ],
      "execution_count": null,
      "outputs": []
    },
    {
      "cell_type": "code",
      "metadata": {
        "colab": {
          "base_uri": "https://localhost:8080/"
        },
        "id": "2Ojah6fdRzT_",
        "outputId": "5b7f4fde-cd52-4b46-bc73-be822f4a3992"
      },
      "source": [
        "ls"
      ],
      "execution_count": null,
      "outputs": [
        {
          "output_type": "stream",
          "name": "stdout",
          "text": [
            " data_explanation.xlsx   \u001b[0m\u001b[01;34msignate\u001b[0m/\n",
            " data.zip                submission.csv\n",
            " detectron2演習.ipynb    test.csv\n",
            " kaggle.json             train.csv\n",
            " kaggle_test.ipynb       tutorial_forPeakersNLPOnline202002_hata.ipynb\n",
            " lgbm_baseline.ipynb     Untitled0.ipynb\n",
            " media.ipynb            \u001b[01;34m'確認問題(修正)'\u001b[0m/\n",
            " pytorch_test.ipynb      論文実装のためのPytorch.ipynb\n",
            " sample_submission.csv\n"
          ]
        }
      ]
    },
    {
      "cell_type": "code",
      "metadata": {
        "id": "aSxXTDvnR40D"
      },
      "source": [
        ""
      ],
      "execution_count": null,
      "outputs": []
    }
  ]
}